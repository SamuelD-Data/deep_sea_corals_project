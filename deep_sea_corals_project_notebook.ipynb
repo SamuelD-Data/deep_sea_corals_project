{
 "cells": [
  {
   "cell_type": "markdown",
   "metadata": {},
   "source": [
    "# Goals\n",
    "***"
   ]
  },
  {
   "cell_type": "markdown",
   "metadata": {},
   "source": [
    "- Draw insights about corals\n",
    "- Create a model that can predict the vernacular name cateogories of the corals"
   ]
  },
  {
   "cell_type": "markdown",
   "metadata": {},
   "source": [
    "# Acquire\n",
    "Acquiring the data from local csv file\n",
    "***"
   ]
  },
  {
   "cell_type": "code",
   "execution_count": 4,
   "metadata": {},
   "outputs": [],
   "source": [
    "# establishing environment\n",
    "import pandas as pd\n",
    "\n",
    "import warnings\n",
    "warnings.filterwarnings(\"ignore\")"
   ]
  },
  {
   "cell_type": "code",
   "execution_count": 22,
   "metadata": {},
   "outputs": [],
   "source": [
    "# importing data\n",
    "df = pd.read_csv('deep_sea_corals.csv')"
   ]
  },
  {
   "cell_type": "code",
   "execution_count": 23,
   "metadata": {},
   "outputs": [
    {
     "data": {
      "text/html": [
       "<div>\n",
       "<style scoped>\n",
       "    .dataframe tbody tr th:only-of-type {\n",
       "        vertical-align: middle;\n",
       "    }\n",
       "\n",
       "    .dataframe tbody tr th {\n",
       "        vertical-align: top;\n",
       "    }\n",
       "\n",
       "    .dataframe thead th {\n",
       "        text-align: right;\n",
       "    }\n",
       "</style>\n",
       "<table border=\"1\" class=\"dataframe\">\n",
       "  <thead>\n",
       "    <tr style=\"text-align: right;\">\n",
       "      <th></th>\n",
       "      <th>CatalogNumber</th>\n",
       "      <th>DataProvider</th>\n",
       "      <th>ScientificName</th>\n",
       "      <th>VernacularNameCategory</th>\n",
       "      <th>TaxonRank</th>\n",
       "      <th>Station</th>\n",
       "      <th>ObservationDate</th>\n",
       "      <th>latitude</th>\n",
       "      <th>longitude</th>\n",
       "      <th>DepthInMeters</th>\n",
       "      <th>DepthMethod</th>\n",
       "      <th>Locality</th>\n",
       "      <th>LocationAccuracy</th>\n",
       "      <th>SurveyID</th>\n",
       "      <th>Repository</th>\n",
       "      <th>IdentificationQualifier</th>\n",
       "      <th>EventID</th>\n",
       "      <th>SamplingEquipment</th>\n",
       "      <th>RecordType</th>\n",
       "      <th>SampleID</th>\n",
       "    </tr>\n",
       "  </thead>\n",
       "  <tbody>\n",
       "    <tr>\n",
       "      <th>0</th>\n",
       "      <td>NaN</td>\n",
       "      <td>NaN</td>\n",
       "      <td>NaN</td>\n",
       "      <td>NaN</td>\n",
       "      <td>NaN</td>\n",
       "      <td>NaN</td>\n",
       "      <td>NaN</td>\n",
       "      <td>degrees_north</td>\n",
       "      <td>degrees_east</td>\n",
       "      <td>NaN</td>\n",
       "      <td>NaN</td>\n",
       "      <td>NaN</td>\n",
       "      <td>NaN</td>\n",
       "      <td>NaN</td>\n",
       "      <td>NaN</td>\n",
       "      <td>NaN</td>\n",
       "      <td>NaN</td>\n",
       "      <td>NaN</td>\n",
       "      <td>NaN</td>\n",
       "      <td>NaN</td>\n",
       "    </tr>\n",
       "    <tr>\n",
       "      <th>1</th>\n",
       "      <td>625366.0</td>\n",
       "      <td>NOAA, Deep Sea Coral Research &amp; Technology Pro...</td>\n",
       "      <td>Madrepora oculata</td>\n",
       "      <td>stony coral (branching)</td>\n",
       "      <td>species</td>\n",
       "      <td>D2-EX1504L3-05</td>\n",
       "      <td>2015-09-02</td>\n",
       "      <td>18.30817</td>\n",
       "      <td>-158.45392</td>\n",
       "      <td>959.0</td>\n",
       "      <td>reported</td>\n",
       "      <td>Hawaiian Archipelago, Swordfish Seamount</td>\n",
       "      <td>50m</td>\n",
       "      <td>Hohonu Moana: Exploring Deep Waters off Hawai'i</td>\n",
       "      <td>University of Hawaii</td>\n",
       "      <td>ID by expert from video</td>\n",
       "      <td>D2-EX1504L3-05</td>\n",
       "      <td>ROV</td>\n",
       "      <td>video observation</td>\n",
       "      <td>EX1504L3_05_20150901T181522Z.mp4_05:45:26:28</td>\n",
       "    </tr>\n",
       "    <tr>\n",
       "      <th>2</th>\n",
       "      <td>625373.0</td>\n",
       "      <td>NOAA, Deep Sea Coral Research &amp; Technology Pro...</td>\n",
       "      <td>Madrepora oculata</td>\n",
       "      <td>stony coral (branching)</td>\n",
       "      <td>species</td>\n",
       "      <td>D2-EX1504L3-05</td>\n",
       "      <td>2015-09-01</td>\n",
       "      <td>18.30864</td>\n",
       "      <td>-158.45393</td>\n",
       "      <td>953.0</td>\n",
       "      <td>reported</td>\n",
       "      <td>Hawaiian Archipelago, Swordfish Seamount</td>\n",
       "      <td>50m</td>\n",
       "      <td>Hohonu Moana: Exploring Deep Waters off Hawai'i</td>\n",
       "      <td>University of Hawaii</td>\n",
       "      <td>ID by expert from video</td>\n",
       "      <td>D2-EX1504L3-05</td>\n",
       "      <td>ROV</td>\n",
       "      <td>video observation</td>\n",
       "      <td>EX1504L3_05_20150901T181522Z.mp4_05:24:35:53</td>\n",
       "    </tr>\n",
       "    <tr>\n",
       "      <th>3</th>\n",
       "      <td>625386.0</td>\n",
       "      <td>NOAA, Deep Sea Coral Research &amp; Technology Pro...</td>\n",
       "      <td>Madrepora oculata</td>\n",
       "      <td>stony coral (branching)</td>\n",
       "      <td>species</td>\n",
       "      <td>D2-EX1504L3-05</td>\n",
       "      <td>2015-09-01</td>\n",
       "      <td>18.30877</td>\n",
       "      <td>-158.45384</td>\n",
       "      <td>955.0</td>\n",
       "      <td>reported</td>\n",
       "      <td>Hawaiian Archipelago, Swordfish Seamount</td>\n",
       "      <td>50m</td>\n",
       "      <td>Hohonu Moana: Exploring Deep Waters off Hawai'i</td>\n",
       "      <td>University of Hawaii</td>\n",
       "      <td>ID by expert from video</td>\n",
       "      <td>D2-EX1504L3-05</td>\n",
       "      <td>ROV</td>\n",
       "      <td>video observation</td>\n",
       "      <td>EX1504L3_05_20150901T181522Z.mp4_05:15:22:09</td>\n",
       "    </tr>\n",
       "    <tr>\n",
       "      <th>4</th>\n",
       "      <td>625382.0</td>\n",
       "      <td>NOAA, Deep Sea Coral Research &amp; Technology Pro...</td>\n",
       "      <td>Madrepora oculata</td>\n",
       "      <td>stony coral (branching)</td>\n",
       "      <td>species</td>\n",
       "      <td>D2-EX1504L3-05</td>\n",
       "      <td>2015-09-01</td>\n",
       "      <td>18.30875</td>\n",
       "      <td>-158.45384</td>\n",
       "      <td>955.0</td>\n",
       "      <td>reported</td>\n",
       "      <td>Hawaiian Archipelago, Swordfish Seamount</td>\n",
       "      <td>50m</td>\n",
       "      <td>Hohonu Moana: Exploring Deep Waters off Hawai'i</td>\n",
       "      <td>University of Hawaii</td>\n",
       "      <td>ID by expert from video</td>\n",
       "      <td>D2-EX1504L3-05</td>\n",
       "      <td>ROV</td>\n",
       "      <td>video observation</td>\n",
       "      <td>EX1504L3_05_20150901T181522Z.mp4_05:13:29:50</td>\n",
       "    </tr>\n",
       "  </tbody>\n",
       "</table>\n",
       "</div>"
      ],
      "text/plain": [
       "   CatalogNumber                                       DataProvider  \\\n",
       "0            NaN                                                NaN   \n",
       "1       625366.0  NOAA, Deep Sea Coral Research & Technology Pro...   \n",
       "2       625373.0  NOAA, Deep Sea Coral Research & Technology Pro...   \n",
       "3       625386.0  NOAA, Deep Sea Coral Research & Technology Pro...   \n",
       "4       625382.0  NOAA, Deep Sea Coral Research & Technology Pro...   \n",
       "\n",
       "      ScientificName   VernacularNameCategory TaxonRank         Station  \\\n",
       "0                NaN                      NaN       NaN             NaN   \n",
       "1  Madrepora oculata  stony coral (branching)   species  D2-EX1504L3-05   \n",
       "2  Madrepora oculata  stony coral (branching)   species  D2-EX1504L3-05   \n",
       "3  Madrepora oculata  stony coral (branching)   species  D2-EX1504L3-05   \n",
       "4  Madrepora oculata  stony coral (branching)   species  D2-EX1504L3-05   \n",
       "\n",
       "  ObservationDate       latitude     longitude  DepthInMeters DepthMethod  \\\n",
       "0             NaN  degrees_north  degrees_east            NaN         NaN   \n",
       "1      2015-09-02       18.30817    -158.45392          959.0    reported   \n",
       "2      2015-09-01       18.30864    -158.45393          953.0    reported   \n",
       "3      2015-09-01       18.30877    -158.45384          955.0    reported   \n",
       "4      2015-09-01       18.30875    -158.45384          955.0    reported   \n",
       "\n",
       "                                   Locality LocationAccuracy  \\\n",
       "0                                       NaN              NaN   \n",
       "1  Hawaiian Archipelago, Swordfish Seamount              50m   \n",
       "2  Hawaiian Archipelago, Swordfish Seamount              50m   \n",
       "3  Hawaiian Archipelago, Swordfish Seamount              50m   \n",
       "4  Hawaiian Archipelago, Swordfish Seamount              50m   \n",
       "\n",
       "                                          SurveyID            Repository  \\\n",
       "0                                              NaN                   NaN   \n",
       "1  Hohonu Moana: Exploring Deep Waters off Hawai'i  University of Hawaii   \n",
       "2  Hohonu Moana: Exploring Deep Waters off Hawai'i  University of Hawaii   \n",
       "3  Hohonu Moana: Exploring Deep Waters off Hawai'i  University of Hawaii   \n",
       "4  Hohonu Moana: Exploring Deep Waters off Hawai'i  University of Hawaii   \n",
       "\n",
       "   IdentificationQualifier         EventID SamplingEquipment  \\\n",
       "0                      NaN             NaN               NaN   \n",
       "1  ID by expert from video  D2-EX1504L3-05               ROV   \n",
       "2  ID by expert from video  D2-EX1504L3-05               ROV   \n",
       "3  ID by expert from video  D2-EX1504L3-05               ROV   \n",
       "4  ID by expert from video  D2-EX1504L3-05               ROV   \n",
       "\n",
       "          RecordType                                      SampleID  \n",
       "0                NaN                                           NaN  \n",
       "1  video observation  EX1504L3_05_20150901T181522Z.mp4_05:45:26:28  \n",
       "2  video observation  EX1504L3_05_20150901T181522Z.mp4_05:24:35:53  \n",
       "3  video observation  EX1504L3_05_20150901T181522Z.mp4_05:15:22:09  \n",
       "4  video observation  EX1504L3_05_20150901T181522Z.mp4_05:13:29:50  "
      ]
     },
     "execution_count": 23,
     "metadata": {},
     "output_type": "execute_result"
    }
   ],
   "source": [
    "# previewing data\n",
    "df.head()"
   ]
  },
  {
   "cell_type": "markdown",
   "metadata": {},
   "source": [
    "# Prepare\n",
    "Preparing the data for exploration and modeling\n",
    "***"
   ]
  },
  {
   "cell_type": "code",
   "execution_count": 24,
   "metadata": {
    "scrolled": false
   },
   "outputs": [
    {
     "name": "stdout",
     "output_type": "stream",
     "text": [
      "<class 'pandas.core.frame.DataFrame'>\n",
      "RangeIndex: 513373 entries, 0 to 513372\n",
      "Data columns (total 20 columns):\n",
      " #   Column                   Non-Null Count   Dtype  \n",
      "---  ------                   --------------   -----  \n",
      " 0   CatalogNumber            513372 non-null  float64\n",
      " 1   DataProvider             513372 non-null  object \n",
      " 2   ScientificName           513372 non-null  object \n",
      " 3   VernacularNameCategory   513197 non-null  object \n",
      " 4   TaxonRank                513364 non-null  object \n",
      " 5   Station                  253590 non-null  object \n",
      " 6   ObservationDate          513367 non-null  object \n",
      " 7   latitude                 513373 non-null  object \n",
      " 8   longitude                513373 non-null  object \n",
      " 9   DepthInMeters            513372 non-null  float64\n",
      " 10  DepthMethod              496845 non-null  object \n",
      " 11  Locality                 389645 non-null  object \n",
      " 12  LocationAccuracy         484662 non-null  object \n",
      " 13  SurveyID                 306228 non-null  object \n",
      " 14  Repository               496584 non-null  object \n",
      " 15  IdentificationQualifier  488591 non-null  object \n",
      " 16  EventID                  472141 non-null  object \n",
      " 17  SamplingEquipment        485883 non-null  object \n",
      " 18  RecordType               501077 non-null  object \n",
      " 19  SampleID                 402294 non-null  object \n",
      "dtypes: float64(2), object(18)\n",
      "memory usage: 78.3+ MB\n"
     ]
    }
   ],
   "source": [
    "df.info()"
   ]
  },
  {
   "cell_type": "markdown",
   "metadata": {},
   "source": [
    "- Drop CatalogNumber and SampleID columns\n",
    "     - The information in these columns will not be useful for the operations of this project\n",
    "     \n",
    "     \n",
    "- Many null values\n",
    "    - I'll drop them after dropping columns I don't plan to use for this first iteration of this project\n",
    "        - If too many rows are lost I'll impute values to preserve more rows \n",
    "        \n",
    "        \n",
    "- Data types look okay for now but I'll update if needed to facilitate operations\n",
    "\n",
    "- Rename columns \n",
    "    - all lowercase\n",
    "    - \"_\" between words in names"
   ]
  },
  {
   "cell_type": "markdown",
   "metadata": {},
   "source": [
    "### Dropping Columns"
   ]
  },
  {
   "cell_type": "code",
   "execution_count": null,
   "metadata": {},
   "outputs": [],
   "source": [
    "# dropping specified columns\n",
    "df = df.drop(columns = ['CatalogNumber', 'SampleID'])"
   ]
  },
  {
   "cell_type": "markdown",
   "metadata": {},
   "source": [
    "### Dropping Nulls"
   ]
  },
  {
   "cell_type": "code",
   "execution_count": 25,
   "metadata": {},
   "outputs": [],
   "source": [
    "# dropping all null values\n",
    "df = df.dropna()"
   ]
  },
  {
   "cell_type": "markdown",
   "metadata": {},
   "source": [
    "### Splitting data"
   ]
  },
  {
   "cell_type": "code",
   "execution_count": null,
   "metadata": {},
   "outputs": [],
   "source": []
  },
  {
   "cell_type": "markdown",
   "metadata": {},
   "source": [
    "# Explore\n",
    "Exploring the data to draw insights about the corals\n",
    "***"
   ]
  },
  {
   "cell_type": "code",
   "execution_count": null,
   "metadata": {},
   "outputs": [],
   "source": []
  }
 ],
 "metadata": {
  "kernelspec": {
   "display_name": "Python 3",
   "language": "python",
   "name": "python3"
  },
  "language_info": {
   "codemirror_mode": {
    "name": "ipython",
    "version": 3
   },
   "file_extension": ".py",
   "mimetype": "text/x-python",
   "name": "python",
   "nbconvert_exporter": "python",
   "pygments_lexer": "ipython3",
   "version": "3.7.6"
  }
 },
 "nbformat": 4,
 "nbformat_minor": 4
}

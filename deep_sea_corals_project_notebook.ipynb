{
 "cells": [
  {
   "cell_type": "markdown",
   "metadata": {},
   "source": [
    "# DEEP SEA CORALS PROJECT\n",
    "***"
   ]
  },
  {
   "cell_type": "markdown",
   "metadata": {},
   "source": [
    "# Goals\n",
    "***"
   ]
  },
  {
   "cell_type": "markdown",
   "metadata": {},
   "source": [
    "- Explore data to gather insights about coral"
   ]
  },
  {
   "cell_type": "markdown",
   "metadata": {},
   "source": [
    "# Acquire\n",
    "Acquiring the data from local csv file\n",
    "***"
   ]
  },
  {
   "cell_type": "code",
   "execution_count": 44,
   "metadata": {},
   "outputs": [],
   "source": [
    "# establishing environment\n",
    "import pandas as pd\n",
    "\n",
    "import warnings\n",
    "warnings.filterwarnings(\"ignore\")"
   ]
  },
  {
   "cell_type": "code",
   "execution_count": 45,
   "metadata": {},
   "outputs": [],
   "source": [
    "# importing data\n",
    "df = pd.read_csv('deep_sea_corals.csv')"
   ]
  },
  {
   "cell_type": "code",
   "execution_count": 46,
   "metadata": {},
   "outputs": [
    {
     "data": {
      "text/html": [
       "<div>\n",
       "<style scoped>\n",
       "    .dataframe tbody tr th:only-of-type {\n",
       "        vertical-align: middle;\n",
       "    }\n",
       "\n",
       "    .dataframe tbody tr th {\n",
       "        vertical-align: top;\n",
       "    }\n",
       "\n",
       "    .dataframe thead th {\n",
       "        text-align: right;\n",
       "    }\n",
       "</style>\n",
       "<table border=\"1\" class=\"dataframe\">\n",
       "  <thead>\n",
       "    <tr style=\"text-align: right;\">\n",
       "      <th></th>\n",
       "      <th>CatalogNumber</th>\n",
       "      <th>DataProvider</th>\n",
       "      <th>ScientificName</th>\n",
       "      <th>VernacularNameCategory</th>\n",
       "      <th>TaxonRank</th>\n",
       "      <th>Station</th>\n",
       "      <th>ObservationDate</th>\n",
       "      <th>latitude</th>\n",
       "      <th>longitude</th>\n",
       "      <th>DepthInMeters</th>\n",
       "      <th>DepthMethod</th>\n",
       "      <th>Locality</th>\n",
       "      <th>LocationAccuracy</th>\n",
       "      <th>SurveyID</th>\n",
       "      <th>Repository</th>\n",
       "      <th>IdentificationQualifier</th>\n",
       "      <th>EventID</th>\n",
       "      <th>SamplingEquipment</th>\n",
       "      <th>RecordType</th>\n",
       "      <th>SampleID</th>\n",
       "    </tr>\n",
       "  </thead>\n",
       "  <tbody>\n",
       "    <tr>\n",
       "      <th>0</th>\n",
       "      <td>NaN</td>\n",
       "      <td>NaN</td>\n",
       "      <td>NaN</td>\n",
       "      <td>NaN</td>\n",
       "      <td>NaN</td>\n",
       "      <td>NaN</td>\n",
       "      <td>NaN</td>\n",
       "      <td>degrees_north</td>\n",
       "      <td>degrees_east</td>\n",
       "      <td>NaN</td>\n",
       "      <td>NaN</td>\n",
       "      <td>NaN</td>\n",
       "      <td>NaN</td>\n",
       "      <td>NaN</td>\n",
       "      <td>NaN</td>\n",
       "      <td>NaN</td>\n",
       "      <td>NaN</td>\n",
       "      <td>NaN</td>\n",
       "      <td>NaN</td>\n",
       "      <td>NaN</td>\n",
       "    </tr>\n",
       "    <tr>\n",
       "      <th>1</th>\n",
       "      <td>625366.0</td>\n",
       "      <td>NOAA, Deep Sea Coral Research &amp; Technology Pro...</td>\n",
       "      <td>Madrepora oculata</td>\n",
       "      <td>stony coral (branching)</td>\n",
       "      <td>species</td>\n",
       "      <td>D2-EX1504L3-05</td>\n",
       "      <td>2015-09-02</td>\n",
       "      <td>18.30817</td>\n",
       "      <td>-158.45392</td>\n",
       "      <td>959.0</td>\n",
       "      <td>reported</td>\n",
       "      <td>Hawaiian Archipelago, Swordfish Seamount</td>\n",
       "      <td>50m</td>\n",
       "      <td>Hohonu Moana: Exploring Deep Waters off Hawai'i</td>\n",
       "      <td>University of Hawaii</td>\n",
       "      <td>ID by expert from video</td>\n",
       "      <td>D2-EX1504L3-05</td>\n",
       "      <td>ROV</td>\n",
       "      <td>video observation</td>\n",
       "      <td>EX1504L3_05_20150901T181522Z.mp4_05:45:26:28</td>\n",
       "    </tr>\n",
       "    <tr>\n",
       "      <th>2</th>\n",
       "      <td>625373.0</td>\n",
       "      <td>NOAA, Deep Sea Coral Research &amp; Technology Pro...</td>\n",
       "      <td>Madrepora oculata</td>\n",
       "      <td>stony coral (branching)</td>\n",
       "      <td>species</td>\n",
       "      <td>D2-EX1504L3-05</td>\n",
       "      <td>2015-09-01</td>\n",
       "      <td>18.30864</td>\n",
       "      <td>-158.45393</td>\n",
       "      <td>953.0</td>\n",
       "      <td>reported</td>\n",
       "      <td>Hawaiian Archipelago, Swordfish Seamount</td>\n",
       "      <td>50m</td>\n",
       "      <td>Hohonu Moana: Exploring Deep Waters off Hawai'i</td>\n",
       "      <td>University of Hawaii</td>\n",
       "      <td>ID by expert from video</td>\n",
       "      <td>D2-EX1504L3-05</td>\n",
       "      <td>ROV</td>\n",
       "      <td>video observation</td>\n",
       "      <td>EX1504L3_05_20150901T181522Z.mp4_05:24:35:53</td>\n",
       "    </tr>\n",
       "    <tr>\n",
       "      <th>3</th>\n",
       "      <td>625386.0</td>\n",
       "      <td>NOAA, Deep Sea Coral Research &amp; Technology Pro...</td>\n",
       "      <td>Madrepora oculata</td>\n",
       "      <td>stony coral (branching)</td>\n",
       "      <td>species</td>\n",
       "      <td>D2-EX1504L3-05</td>\n",
       "      <td>2015-09-01</td>\n",
       "      <td>18.30877</td>\n",
       "      <td>-158.45384</td>\n",
       "      <td>955.0</td>\n",
       "      <td>reported</td>\n",
       "      <td>Hawaiian Archipelago, Swordfish Seamount</td>\n",
       "      <td>50m</td>\n",
       "      <td>Hohonu Moana: Exploring Deep Waters off Hawai'i</td>\n",
       "      <td>University of Hawaii</td>\n",
       "      <td>ID by expert from video</td>\n",
       "      <td>D2-EX1504L3-05</td>\n",
       "      <td>ROV</td>\n",
       "      <td>video observation</td>\n",
       "      <td>EX1504L3_05_20150901T181522Z.mp4_05:15:22:09</td>\n",
       "    </tr>\n",
       "    <tr>\n",
       "      <th>4</th>\n",
       "      <td>625382.0</td>\n",
       "      <td>NOAA, Deep Sea Coral Research &amp; Technology Pro...</td>\n",
       "      <td>Madrepora oculata</td>\n",
       "      <td>stony coral (branching)</td>\n",
       "      <td>species</td>\n",
       "      <td>D2-EX1504L3-05</td>\n",
       "      <td>2015-09-01</td>\n",
       "      <td>18.30875</td>\n",
       "      <td>-158.45384</td>\n",
       "      <td>955.0</td>\n",
       "      <td>reported</td>\n",
       "      <td>Hawaiian Archipelago, Swordfish Seamount</td>\n",
       "      <td>50m</td>\n",
       "      <td>Hohonu Moana: Exploring Deep Waters off Hawai'i</td>\n",
       "      <td>University of Hawaii</td>\n",
       "      <td>ID by expert from video</td>\n",
       "      <td>D2-EX1504L3-05</td>\n",
       "      <td>ROV</td>\n",
       "      <td>video observation</td>\n",
       "      <td>EX1504L3_05_20150901T181522Z.mp4_05:13:29:50</td>\n",
       "    </tr>\n",
       "  </tbody>\n",
       "</table>\n",
       "</div>"
      ],
      "text/plain": [
       "   CatalogNumber                                       DataProvider  \\\n",
       "0            NaN                                                NaN   \n",
       "1       625366.0  NOAA, Deep Sea Coral Research & Technology Pro...   \n",
       "2       625373.0  NOAA, Deep Sea Coral Research & Technology Pro...   \n",
       "3       625386.0  NOAA, Deep Sea Coral Research & Technology Pro...   \n",
       "4       625382.0  NOAA, Deep Sea Coral Research & Technology Pro...   \n",
       "\n",
       "      ScientificName   VernacularNameCategory TaxonRank         Station  \\\n",
       "0                NaN                      NaN       NaN             NaN   \n",
       "1  Madrepora oculata  stony coral (branching)   species  D2-EX1504L3-05   \n",
       "2  Madrepora oculata  stony coral (branching)   species  D2-EX1504L3-05   \n",
       "3  Madrepora oculata  stony coral (branching)   species  D2-EX1504L3-05   \n",
       "4  Madrepora oculata  stony coral (branching)   species  D2-EX1504L3-05   \n",
       "\n",
       "  ObservationDate       latitude     longitude  DepthInMeters DepthMethod  \\\n",
       "0             NaN  degrees_north  degrees_east            NaN         NaN   \n",
       "1      2015-09-02       18.30817    -158.45392          959.0    reported   \n",
       "2      2015-09-01       18.30864    -158.45393          953.0    reported   \n",
       "3      2015-09-01       18.30877    -158.45384          955.0    reported   \n",
       "4      2015-09-01       18.30875    -158.45384          955.0    reported   \n",
       "\n",
       "                                   Locality LocationAccuracy  \\\n",
       "0                                       NaN              NaN   \n",
       "1  Hawaiian Archipelago, Swordfish Seamount              50m   \n",
       "2  Hawaiian Archipelago, Swordfish Seamount              50m   \n",
       "3  Hawaiian Archipelago, Swordfish Seamount              50m   \n",
       "4  Hawaiian Archipelago, Swordfish Seamount              50m   \n",
       "\n",
       "                                          SurveyID            Repository  \\\n",
       "0                                              NaN                   NaN   \n",
       "1  Hohonu Moana: Exploring Deep Waters off Hawai'i  University of Hawaii   \n",
       "2  Hohonu Moana: Exploring Deep Waters off Hawai'i  University of Hawaii   \n",
       "3  Hohonu Moana: Exploring Deep Waters off Hawai'i  University of Hawaii   \n",
       "4  Hohonu Moana: Exploring Deep Waters off Hawai'i  University of Hawaii   \n",
       "\n",
       "   IdentificationQualifier         EventID SamplingEquipment  \\\n",
       "0                      NaN             NaN               NaN   \n",
       "1  ID by expert from video  D2-EX1504L3-05               ROV   \n",
       "2  ID by expert from video  D2-EX1504L3-05               ROV   \n",
       "3  ID by expert from video  D2-EX1504L3-05               ROV   \n",
       "4  ID by expert from video  D2-EX1504L3-05               ROV   \n",
       "\n",
       "          RecordType                                      SampleID  \n",
       "0                NaN                                           NaN  \n",
       "1  video observation  EX1504L3_05_20150901T181522Z.mp4_05:45:26:28  \n",
       "2  video observation  EX1504L3_05_20150901T181522Z.mp4_05:24:35:53  \n",
       "3  video observation  EX1504L3_05_20150901T181522Z.mp4_05:15:22:09  \n",
       "4  video observation  EX1504L3_05_20150901T181522Z.mp4_05:13:29:50  "
      ]
     },
     "execution_count": 46,
     "metadata": {},
     "output_type": "execute_result"
    }
   ],
   "source": [
    "# previewing data\n",
    "df.head()"
   ]
  },
  {
   "cell_type": "markdown",
   "metadata": {},
   "source": [
    "# Prepare\n",
    "Preparing the data for exploration and modeling\n",
    "***"
   ]
  },
  {
   "cell_type": "code",
   "execution_count": 47,
   "metadata": {
    "scrolled": false
   },
   "outputs": [
    {
     "name": "stdout",
     "output_type": "stream",
     "text": [
      "<class 'pandas.core.frame.DataFrame'>\n",
      "RangeIndex: 513373 entries, 0 to 513372\n",
      "Data columns (total 20 columns):\n",
      " #   Column                   Non-Null Count   Dtype  \n",
      "---  ------                   --------------   -----  \n",
      " 0   CatalogNumber            513372 non-null  float64\n",
      " 1   DataProvider             513372 non-null  object \n",
      " 2   ScientificName           513372 non-null  object \n",
      " 3   VernacularNameCategory   513197 non-null  object \n",
      " 4   TaxonRank                513364 non-null  object \n",
      " 5   Station                  253590 non-null  object \n",
      " 6   ObservationDate          513367 non-null  object \n",
      " 7   latitude                 513373 non-null  object \n",
      " 8   longitude                513373 non-null  object \n",
      " 9   DepthInMeters            513372 non-null  float64\n",
      " 10  DepthMethod              496845 non-null  object \n",
      " 11  Locality                 389645 non-null  object \n",
      " 12  LocationAccuracy         484662 non-null  object \n",
      " 13  SurveyID                 306228 non-null  object \n",
      " 14  Repository               496584 non-null  object \n",
      " 15  IdentificationQualifier  488591 non-null  object \n",
      " 16  EventID                  472141 non-null  object \n",
      " 17  SamplingEquipment        485883 non-null  object \n",
      " 18  RecordType               501077 non-null  object \n",
      " 19  SampleID                 402294 non-null  object \n",
      "dtypes: float64(2), object(18)\n",
      "memory usage: 78.3+ MB\n"
     ]
    }
   ],
   "source": [
    "df.info()"
   ]
  },
  {
   "cell_type": "markdown",
   "metadata": {},
   "source": [
    "- Drop columns that will not be used in this iteration of the project\n",
    "    - CatalogNumber, SampleID, SurveyID, EventID, and Station\n",
    "        - Categorical columns with vast amounts of unique values that don't offer insight to anything within the scope of this project\n",
    "    - Locality\n",
    "        - Column holds a very large amount of categorical values\n",
    "        - Will be easier to work with if I bin the values as many appear to be near eachother but I'll save this for a later iteration of the project since it may take a significant amount of time\n",
    "\n",
    "     \n",
    "     \n",
    "- Many null values\n",
    "    - I'll drop them after dropping columns I don't plan to use for this first iteration of this project\n",
    "        - If too many rows are lost I'll impute values to preserve more rows \n",
    "        \n",
    "        \n",
    "- Data types look okay for now but I'll update if needed to facilitate operations\n",
    "\n",
    "\n",
    "- Rename columns \n",
    "    - all lowercase\n",
    "    - \"_\" between words in names\n",
    "\n",
    "\n",
    "- Make all values lowercase where applicable"
   ]
  },
  {
   "cell_type": "markdown",
   "metadata": {},
   "source": [
    "### Dropping Columns"
   ]
  },
  {
   "cell_type": "code",
   "execution_count": 48,
   "metadata": {},
   "outputs": [],
   "source": [
    "# dropping specified columns\n",
    "df = df.drop(columns = ['CatalogNumber', 'SampleID', 'SurveyID', 'EventID', 'Station', 'Locality'])"
   ]
  },
  {
   "cell_type": "markdown",
   "metadata": {},
   "source": [
    "### Dropping Nulls"
   ]
  },
  {
   "cell_type": "code",
   "execution_count": 49,
   "metadata": {},
   "outputs": [],
   "source": [
    "# dropping all null values\n",
    "df = df.dropna()"
   ]
  },
  {
   "cell_type": "markdown",
   "metadata": {},
   "source": [
    "### Renaming Columns"
   ]
  },
  {
   "cell_type": "code",
   "execution_count": 51,
   "metadata": {},
   "outputs": [],
   "source": [
    "# adding underscores to various column names\n",
    "df.columns = ['Data_Provider', 'Scientific_Name', 'Vernacular_Name_Category', 'Taxon_Rank',\n",
    "              'Observation_Date', 'latitude', 'longitude', 'Depth_Meters','Depth_Method', \n",
    "              'Location_Accuracy', 'Repository', 'Identification_Qualifier', 'Sampling_Equipment',\n",
    "              'Record_Type']\n",
    "\n",
    "# lower casing all column names\n",
    "df.columns = df.columns.str.lower()"
   ]
  },
  {
   "cell_type": "markdown",
   "metadata": {},
   "source": [
    "### Converting all values to lower case"
   ]
  },
  {
   "cell_type": "code",
   "execution_count": 74,
   "metadata": {},
   "outputs": [],
   "source": [
    "df = df.applymap(lambda string:string.lower() if type(string) == str else string)"
   ]
  },
  {
   "cell_type": "markdown",
   "metadata": {},
   "source": [
    "# Explore\n",
    "Exploring the data to draw insights about the corals\n",
    "***"
   ]
  },
  {
   "cell_type": "code",
   "execution_count": 75,
   "metadata": {},
   "outputs": [
    {
     "data": {
      "text/html": [
       "<div>\n",
       "<style scoped>\n",
       "    .dataframe tbody tr th:only-of-type {\n",
       "        vertical-align: middle;\n",
       "    }\n",
       "\n",
       "    .dataframe tbody tr th {\n",
       "        vertical-align: top;\n",
       "    }\n",
       "\n",
       "    .dataframe thead th {\n",
       "        text-align: right;\n",
       "    }\n",
       "</style>\n",
       "<table border=\"1\" class=\"dataframe\">\n",
       "  <thead>\n",
       "    <tr style=\"text-align: right;\">\n",
       "      <th></th>\n",
       "      <th>data_provider</th>\n",
       "      <th>scientific_name</th>\n",
       "      <th>vernacular_name_category</th>\n",
       "      <th>taxon_rank</th>\n",
       "      <th>observation_date</th>\n",
       "      <th>latitude</th>\n",
       "      <th>longitude</th>\n",
       "      <th>depth_meters</th>\n",
       "      <th>depth_method</th>\n",
       "      <th>location_accuracy</th>\n",
       "      <th>repository</th>\n",
       "      <th>identification_qualifier</th>\n",
       "      <th>sampling_equipment</th>\n",
       "      <th>record_type</th>\n",
       "    </tr>\n",
       "  </thead>\n",
       "  <tbody>\n",
       "    <tr>\n",
       "      <th>1</th>\n",
       "      <td>noaa, deep sea coral research &amp; technology pro...</td>\n",
       "      <td>madrepora oculata</td>\n",
       "      <td>stony coral (branching)</td>\n",
       "      <td>species</td>\n",
       "      <td>2015-09-02</td>\n",
       "      <td>18.30817</td>\n",
       "      <td>-158.45392</td>\n",
       "      <td>959.0</td>\n",
       "      <td>reported</td>\n",
       "      <td>50m</td>\n",
       "      <td>university of hawaii</td>\n",
       "      <td>id by expert from video</td>\n",
       "      <td>rov</td>\n",
       "      <td>video observation</td>\n",
       "    </tr>\n",
       "    <tr>\n",
       "      <th>2</th>\n",
       "      <td>noaa, deep sea coral research &amp; technology pro...</td>\n",
       "      <td>madrepora oculata</td>\n",
       "      <td>stony coral (branching)</td>\n",
       "      <td>species</td>\n",
       "      <td>2015-09-01</td>\n",
       "      <td>18.30864</td>\n",
       "      <td>-158.45393</td>\n",
       "      <td>953.0</td>\n",
       "      <td>reported</td>\n",
       "      <td>50m</td>\n",
       "      <td>university of hawaii</td>\n",
       "      <td>id by expert from video</td>\n",
       "      <td>rov</td>\n",
       "      <td>video observation</td>\n",
       "    </tr>\n",
       "    <tr>\n",
       "      <th>3</th>\n",
       "      <td>noaa, deep sea coral research &amp; technology pro...</td>\n",
       "      <td>madrepora oculata</td>\n",
       "      <td>stony coral (branching)</td>\n",
       "      <td>species</td>\n",
       "      <td>2015-09-01</td>\n",
       "      <td>18.30877</td>\n",
       "      <td>-158.45384</td>\n",
       "      <td>955.0</td>\n",
       "      <td>reported</td>\n",
       "      <td>50m</td>\n",
       "      <td>university of hawaii</td>\n",
       "      <td>id by expert from video</td>\n",
       "      <td>rov</td>\n",
       "      <td>video observation</td>\n",
       "    </tr>\n",
       "    <tr>\n",
       "      <th>4</th>\n",
       "      <td>noaa, deep sea coral research &amp; technology pro...</td>\n",
       "      <td>madrepora oculata</td>\n",
       "      <td>stony coral (branching)</td>\n",
       "      <td>species</td>\n",
       "      <td>2015-09-01</td>\n",
       "      <td>18.30875</td>\n",
       "      <td>-158.45384</td>\n",
       "      <td>955.0</td>\n",
       "      <td>reported</td>\n",
       "      <td>50m</td>\n",
       "      <td>university of hawaii</td>\n",
       "      <td>id by expert from video</td>\n",
       "      <td>rov</td>\n",
       "      <td>video observation</td>\n",
       "    </tr>\n",
       "    <tr>\n",
       "      <th>5</th>\n",
       "      <td>noaa, deep sea coral research &amp; technology pro...</td>\n",
       "      <td>madrepora oculata</td>\n",
       "      <td>stony coral (branching)</td>\n",
       "      <td>species</td>\n",
       "      <td>2015-09-01</td>\n",
       "      <td>18.30902</td>\n",
       "      <td>-158.45425</td>\n",
       "      <td>968.0</td>\n",
       "      <td>reported</td>\n",
       "      <td>50m</td>\n",
       "      <td>university of hawaii</td>\n",
       "      <td>id by expert from video</td>\n",
       "      <td>rov</td>\n",
       "      <td>video observation</td>\n",
       "    </tr>\n",
       "  </tbody>\n",
       "</table>\n",
       "</div>"
      ],
      "text/plain": [
       "                                       data_provider    scientific_name  \\\n",
       "1  noaa, deep sea coral research & technology pro...  madrepora oculata   \n",
       "2  noaa, deep sea coral research & technology pro...  madrepora oculata   \n",
       "3  noaa, deep sea coral research & technology pro...  madrepora oculata   \n",
       "4  noaa, deep sea coral research & technology pro...  madrepora oculata   \n",
       "5  noaa, deep sea coral research & technology pro...  madrepora oculata   \n",
       "\n",
       "  vernacular_name_category taxon_rank observation_date  latitude   longitude  \\\n",
       "1  stony coral (branching)    species       2015-09-02  18.30817  -158.45392   \n",
       "2  stony coral (branching)    species       2015-09-01  18.30864  -158.45393   \n",
       "3  stony coral (branching)    species       2015-09-01  18.30877  -158.45384   \n",
       "4  stony coral (branching)    species       2015-09-01  18.30875  -158.45384   \n",
       "5  stony coral (branching)    species       2015-09-01  18.30902  -158.45425   \n",
       "\n",
       "   depth_meters depth_method location_accuracy            repository  \\\n",
       "1         959.0     reported               50m  university of hawaii   \n",
       "2         953.0     reported               50m  university of hawaii   \n",
       "3         955.0     reported               50m  university of hawaii   \n",
       "4         955.0     reported               50m  university of hawaii   \n",
       "5         968.0     reported               50m  university of hawaii   \n",
       "\n",
       "  identification_qualifier sampling_equipment        record_type  \n",
       "1  id by expert from video                rov  video observation  \n",
       "2  id by expert from video                rov  video observation  \n",
       "3  id by expert from video                rov  video observation  \n",
       "4  id by expert from video                rov  video observation  \n",
       "5  id by expert from video                rov  video observation  "
      ]
     },
     "execution_count": 75,
     "metadata": {},
     "output_type": "execute_result"
    }
   ],
   "source": [
    "df.head()"
   ]
  },
  {
   "cell_type": "code",
   "execution_count": 53,
   "metadata": {
    "scrolled": true
   },
   "outputs": [
    {
     "data": {
      "text/plain": [
       "Monterey Bay Aquarium Research Institute                                                           195361\n",
       "NOAA, Alaska Fisheries Science Center                                                               74239\n",
       "NOAA, Southwest Fisheries Science Center, Santa Cruz                                                43573\n",
       "NOAA, Olympic Coast National Marine Sanctuary                                                       36009\n",
       "Hawaii Undersea Research Laboratory                                                                 32996\n",
       "NOAA, Office of Ocean Exploration and Research                                                      16053\n",
       "Temple University                                                                                   10893\n",
       "Harbor Branch Oceanographic Institute                                                                9474\n",
       "NOAA, Southwest Fisheries Science Center, La Jolla                                                   7729\n",
       "NOAA, Northwest Fisheries Science Center                                                             7370\n",
       "Smithsonian Institution, National Museum of Natural History                                          7037\n",
       "NOAA, Deep Sea Coral Research & Technology Program and Office of Ocean Exploration and Research      6166\n",
       "NOAA, Channel Islands National Marine Sanctuary                                                      5349\n",
       "NOAA, Flower Garden Banks National Marine Sanctuary                                                  4027\n",
       "Ross, Steve                                                                                          2859\n",
       "NOAA, Office of Response and Restoration                                                             1923\n",
       "NOAA, Cordell Bank National Marine Sanctuary                                                         1310\n",
       "Bureau of Ocean Energy Management                                                                     854\n",
       "California Academy of Sciences                                                                        533\n",
       "Quattrini, Andrea                                                                                     398\n",
       "Schmidt Ocean Institute                                                                               373\n",
       "Texas A&M, Biodiversity Research and Teaching Collections                                             364\n",
       "Ocean Biogeographic Information System, USA                                                           182\n",
       "Bishop Museum, Invertebrate Zoology Collection                                                         76\n",
       "Thoma, Jana                                                                                            66\n",
       "Yale University Peabody Museum                                                                         43\n",
       "Oceana                                                                                                 36\n",
       "Santa Barbara Museum of Natural History                                                                23\n",
       "United States Geological Survey                                                                        19\n",
       "Wagner, Daniel                                                                                          3\n",
       "Sautya, Sabyasachi                                                                                      1\n",
       "National Museum of Natural Science, Taichung, Taiwan (NMNS)                                             1\n",
       "Name: data_provider, dtype: int64"
      ]
     },
     "execution_count": 53,
     "metadata": {},
     "output_type": "execute_result"
    }
   ],
   "source": [
    "df.data_provider.value_counts()"
   ]
  },
  {
   "cell_type": "code",
   "execution_count": 54,
   "metadata": {
    "scrolled": true
   },
   "outputs": [
    {
     "data": {
      "text/plain": [
       "Porifera                               74411\n",
       "Heteropolypus ritteri                  21395\n",
       "Pennatulacea                           17464\n",
       "Stylaster sp.                          14327\n",
       "Hexactinellida                         10280\n",
       "                                       ...  \n",
       "cf. Kophobelemnidae                        1\n",
       "Telestula tubaria                          1\n",
       "Caryophyllia (Caryophyllia) alberti        1\n",
       "Hyalonema (Coscinonema) schmidti           1\n",
       "Errina laevigata                           1\n",
       "Name: scientific_name, Length: 1723, dtype: int64"
      ]
     },
     "execution_count": 54,
     "metadata": {},
     "output_type": "execute_result"
    }
   ],
   "source": [
    "df.scientific_name.value_counts()"
   ]
  },
  {
   "cell_type": "code",
   "execution_count": 55,
   "metadata": {
    "scrolled": true
   },
   "outputs": [
    {
     "data": {
      "text/plain": [
       "gorgonian coral               132830\n",
       "sponge (unspecified)           74411\n",
       "sea pen                        63154\n",
       "glass sponge                   54349\n",
       "soft coral                     37769\n",
       "demosponge                     35027\n",
       "black coral                    21481\n",
       "lace coral                     19496\n",
       "stony coral (branching)        12627\n",
       "stony coral (cup coral)         5599\n",
       "stony coral (unspecified)       3979\n",
       "gold coral                      2599\n",
       "stoloniferan coral               854\n",
       "calcareous sponge                766\n",
       "scleromorph sponge               258\n",
       "other coral-like hydrozoan       140\n",
       "lithotelestid coral                1\n",
       "Name: vernacular_name_category, dtype: int64"
      ]
     },
     "execution_count": 55,
     "metadata": {},
     "output_type": "execute_result"
    }
   ],
   "source": [
    "df.vernacular_name_category.value_counts()"
   ]
  },
  {
   "cell_type": "code",
   "execution_count": 56,
   "metadata": {
    "scrolled": true
   },
   "outputs": [
    {
     "data": {
      "text/plain": [
       "genus         161831\n",
       "species       142399\n",
       "phylum         74411\n",
       "order          38869\n",
       "family         29036\n",
       "class          13570\n",
       "subfamily       3709\n",
       "subspecies       510\n",
       "subgenus         467\n",
       "variety          243\n",
       "suborder         217\n",
       "subclass          74\n",
       "forma              4\n",
       "Name: taxon_rank, dtype: int64"
      ]
     },
     "execution_count": 56,
     "metadata": {},
     "output_type": "execute_result"
    }
   ],
   "source": [
    "df.taxon_rank.value_counts()"
   ]
  },
  {
   "cell_type": "code",
   "execution_count": 61,
   "metadata": {
    "scrolled": true
   },
   "outputs": [
    {
     "data": {
      "text/plain": [
       "2008-07-11    12995\n",
       "2007-06-18     6897\n",
       "2007-06-19     6588\n",
       "2003-10-14     6458\n",
       "2008-07-13     6226\n",
       "              ...  \n",
       "1957-08-13        1\n",
       "1908-02-07        1\n",
       "1976-05-12        1\n",
       "2003-05-23        1\n",
       "1975-10-19        1\n",
       "Name: observation_date, Length: 7819, dtype: int64"
      ]
     },
     "execution_count": 61,
     "metadata": {},
     "output_type": "execute_result"
    }
   ],
   "source": [
    "df.observation_date.value_counts()"
   ]
  },
  {
   "cell_type": "code",
   "execution_count": 62,
   "metadata": {
    "scrolled": true
   },
   "outputs": [
    {
     "data": {
      "text/plain": [
       "25.57430    605\n",
       "21.29053    494\n",
       "33.70941    440\n",
       "23.97940    439\n",
       "23.23322    431\n",
       "           ... \n",
       "35.13839      1\n",
       "38.02983      1\n",
       "56.68111      1\n",
       "36.68493      1\n",
       "20.93203      1\n",
       "Name: latitude, Length: 123699, dtype: int64"
      ]
     },
     "execution_count": 62,
     "metadata": {},
     "output_type": "execute_result"
    }
   ],
   "source": [
    "df.latitude.value_counts()"
   ]
  },
  {
   "cell_type": "code",
   "execution_count": 63,
   "metadata": {
    "scrolled": true
   },
   "outputs": [
    {
     "data": {
      "text/plain": [
       "-173.50637    605\n",
       "-157.55       553\n",
       "-122.72358    552\n",
       "-157.53542    494\n",
       "-166.7359     439\n",
       "             ... \n",
       "-122.08208      1\n",
       "-124.91113      1\n",
       "177.6637        1\n",
       "-122.24217      1\n",
       "-93.87384       1\n",
       "Name: longitude, Length: 127739, dtype: int64"
      ]
     },
     "execution_count": 63,
     "metadata": {},
     "output_type": "execute_result"
    }
   ],
   "source": [
    "df.longitude.value_counts()"
   ]
  },
  {
   "cell_type": "code",
   "execution_count": 64,
   "metadata": {
    "scrolled": true
   },
   "outputs": [
    {
     "data": {
      "text/plain": [
       "113.0     5257\n",
       "112.0     4382\n",
       "111.0     3497\n",
       "506.0     2369\n",
       "1284.0    2157\n",
       "          ... \n",
       "4594.0       1\n",
       "3537.0       1\n",
       "3825.0       1\n",
       "4745.0       1\n",
       "4335.0       1\n",
       "Name: depth_meters, Length: 4009, dtype: int64"
      ]
     },
     "execution_count": 64,
     "metadata": {},
     "output_type": "execute_result"
    }
   ],
   "source": [
    "df.depth_meters.value_counts()"
   ]
  },
  {
   "cell_type": "code",
   "execution_count": 65,
   "metadata": {
    "scrolled": true
   },
   "outputs": [
    {
     "data": {
      "text/plain": [
       "reported    396335\n",
       "averaged     64328\n",
       "assigned      4569\n",
       "maximum        108\n",
       "Name: depth_method, dtype: int64"
      ]
     },
     "execution_count": 65,
     "metadata": {},
     "output_type": "execute_result"
    }
   ],
   "source": [
    "df.depth_method.value_counts()"
   ]
  },
  {
   "cell_type": "code",
   "execution_count": 67,
   "metadata": {
    "scrolled": true
   },
   "outputs": [
    {
     "data": {
      "text/plain": [
       "100m      266567\n",
       ">1000m     92765\n",
       "20m        49945\n",
       "50m        32955\n",
       "500m       17441\n",
       "1000m       5667\n",
       "Name: location_accuracy, dtype: int64"
      ]
     },
     "execution_count": 67,
     "metadata": {},
     "output_type": "execute_result"
    }
   ],
   "source": [
    "df.location_accuracy.value_counts()"
   ]
  },
  {
   "cell_type": "code",
   "execution_count": 68,
   "metadata": {
    "scrolled": true
   },
   "outputs": [
    {
     "data": {
      "text/plain": [
       "Monterey Bay Aquarium Research Institute                                                                               195360\n",
       "NOAA, Alaska Fisheries Science Center                                                                                   64762\n",
       "NOAA, Olympic Coast National Marine Sanctuary                                                                           36009\n",
       "NOAA, Southwest Fisheries Science Center                                                                                35762\n",
       "Hawaii Undersea Research Laboratory, University of Hawaii                                                               32996\n",
       "University of Hawaii                                                                                                    17299\n",
       "NOAA, Southwest Fisheries Science Center, Santa Cruz                                                                    15621\n",
       "Temple University                                                                                                       11739\n",
       "Harbor Branch Oceanographic Institute                                                                                    9474\n",
       "Alaska Fisheries Information Network (AKFIN)                                                                             9460\n",
       "NOAA, Center for Coastal Environmental Health and Biomolecular Research                                                  7559\n",
       "NOAA, Northwest Fisheries Science Center                                                                                 7370\n",
       "National Museum of Natural History, Smithsonian Institution, Washington D.C.                                             7044\n",
       "NOAA, Flower Garden Banks National Marine Sanctuary                                                                      4509\n",
       "NOAA, Office of Ocean Exploration and Research                                                                           4355\n",
       "NOAA Deep Sea Coral Research and Technology Program                                                                      2859\n",
       "NOAA, Cordell Bank National Marine Sanctuary                                                                             1310\n",
       "California Academy of Sciences; Invertebrate Zoology Collection                                                           545\n",
       "Texas A&M Biodiversity Research and Teaching Collections (BRTC)                                                           364\n",
       "NOAA                                                                                                                      360\n",
       "DFO Pacific Shrimp Trawl Survey                                                                                           182\n",
       "NOAA Central Library                                                                                                      118\n",
       "Peabody Museum, Yale University                                                                                           109\n",
       "Bishop Museum, Invertebrate Zoology Collection                                                                             76\n",
       "Oceana                                                                                                                     36\n",
       "Santa Barbara Museum of Natural History                                                                                    23\n",
       "Museum of Comparative Zoology, Harvard University                                                                          19\n",
       "University of Hawaii (Video); National Museum of Natural History, Smithsonian Institution, Washington D.C. (sample)        15\n",
       "British Museum (Natural History)                                                                                            3\n",
       "National Museum of Natural Science, Taichung, Taiwan (NMNS)                                                                 1\n",
       "National Institute of Oceanography, Dona Paula, Goa, India                                                                  1\n",
       "Name: repository, dtype: int64"
      ]
     },
     "execution_count": 68,
     "metadata": {},
     "output_type": "execute_result"
    }
   ],
   "source": [
    "df.repository.value_counts()"
   ]
  },
  {
   "cell_type": "code",
   "execution_count": 69,
   "metadata": {
    "scrolled": true
   },
   "outputs": [
    {
     "data": {
      "text/plain": [
       "ID by expert from video                                              139857\n",
       "ID from video                                                        123765\n",
       "ID by expert from image                                               44308\n",
       "ID by non-expert from trawl survey                                    24436\n",
       "Field ID by non-expert from video                                     22512\n",
       "good                                                                  18958\n",
       "ID by non-expert from video                                           17062\n",
       "ID by expert from still images                                        14504\n",
       "field ID by non-expert from trawl survey bycatch specimen             13522\n",
       "ID by non-expert from sample                                           9460\n",
       "good - ID from video                                                   8334\n",
       "morphological ID by taxonomic expert                                   5570\n",
       "non-expert                                                             4583\n",
       "ID by expert from                                                      3914\n",
       "field ID                                                               3709\n",
       "morphological ID from sample by taxonomic expert                       3365\n",
       "field ID by non-expert from photo                                      1552\n",
       "genetic                                                                1182\n",
       "Expert from video                                                      1117\n",
       "field ID by non-expert from video                                      1115\n",
       "ID by non-expert from image                                             431\n",
       "non-expert from image                                                   360\n",
       "poor                                                                    245\n",
       "expert with sample                                                      229\n",
       "poor - ID from video                                                    202\n",
       "field ID by expert from photo                                           187\n",
       "questionable                                                            153\n",
       "ID by expert from trawl survey                                          129\n",
       "ID from video by expert                                                 118\n",
       "ID by expert from in situ photo                                          98\n",
       "morphological taxonomist                                                 74\n",
       "morphological and genetic ID by taxonomic expert                         66\n",
       "questionable - ID from video                                             60\n",
       "expert with sample; genetic                                              50\n",
       "morphological ID from sample by trained observer                         37\n",
       "ID Uncertain                                                             33\n",
       "morphological ID by Res. Associate                                       21\n",
       "morphological and genetic ID from sample by taxonomic expert             17\n",
       "morphological ID by Author                                                1\n",
       "ID by taxonomic expert from specimen                                      1\n",
       "morphological ID by Res Associate                                         1\n",
       "morphological ID by taxonomic expert; Genetic bar code                    1\n",
       "morphological ID by taxonomic expert with molecular sequence data         1\n",
       "Name: identification_qualifier, dtype: int64"
      ]
     },
     "execution_count": 69,
     "metadata": {},
     "output_type": "execute_result"
    }
   ],
   "source": [
    "df.identification_qualifier.value_counts()"
   ]
  },
  {
   "cell_type": "code",
   "execution_count": 70,
   "metadata": {
    "scrolled": true
   },
   "outputs": [
    {
     "data": {
      "text/plain": [
       "ROV               319482\n",
       "submersible        66378\n",
       "trawl              49354\n",
       "towed camera       16039\n",
       "longline            9463\n",
       "AUV                 2535\n",
       "drop camera         1182\n",
       "dredge               692\n",
       "net                   99\n",
       "multiple gears        78\n",
       "SCUBA                 10\n",
       "grab                  10\n",
       "trap                   8\n",
       "pot                    5\n",
       "corer                  2\n",
       "other                  2\n",
       "hook and line          1\n",
       "Name: sampling_equipment, dtype: int64"
      ]
     },
     "execution_count": 70,
     "metadata": {},
     "output_type": "execute_result"
    }
   ],
   "source": [
    "df.sampling_equipment.value_counts()"
   ]
  },
  {
   "cell_type": "code",
   "execution_count": 72,
   "metadata": {
    "scrolled": true
   },
   "outputs": [
    {
     "data": {
      "text/plain": [
       "video observation              362038\n",
       "catch record                    41431\n",
       "still image                     40535\n",
       "specimen                        21149\n",
       "notation                          182\n",
       "literature                          4\n",
       "specimen; video observation         1\n",
       "Name: record_type, dtype: int64"
      ]
     },
     "execution_count": 72,
     "metadata": {},
     "output_type": "execute_result"
    }
   ],
   "source": [
    "df.record_type.value_counts()"
   ]
  },
  {
   "cell_type": "code",
   "execution_count": null,
   "metadata": {},
   "outputs": [],
   "source": []
  }
 ],
 "metadata": {
  "kernelspec": {
   "display_name": "Python 3",
   "language": "python",
   "name": "python3"
  },
  "language_info": {
   "codemirror_mode": {
    "name": "ipython",
    "version": 3
   },
   "file_extension": ".py",
   "mimetype": "text/x-python",
   "name": "python",
   "nbconvert_exporter": "python",
   "pygments_lexer": "ipython3",
   "version": "3.7.6"
  }
 },
 "nbformat": 4,
 "nbformat_minor": 4
}

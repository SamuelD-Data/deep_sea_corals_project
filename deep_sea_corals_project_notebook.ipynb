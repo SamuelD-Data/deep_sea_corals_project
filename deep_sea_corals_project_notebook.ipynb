{
 "cells": [
  {
   "cell_type": "markdown",
   "metadata": {},
   "source": [
    "# DEEP SEA CORALS PROJECT\n",
    "***"
   ]
  },
  {
   "cell_type": "markdown",
   "metadata": {},
   "source": [
    "# Goal\n",
    "***"
   ]
  },
  {
   "cell_type": "markdown",
   "metadata": {},
   "source": [
    "The goal of this project is to gather insights about coral and it's related data from the data set provided."
   ]
  },
  {
   "cell_type": "markdown",
   "metadata": {},
   "source": [
    "# Acquire\n",
    "Acquiring the data from local csv file\n",
    "***"
   ]
  },
  {
   "cell_type": "code",
   "execution_count": 1,
   "metadata": {},
   "outputs": [],
   "source": [
    "# establishing environment\n",
    "import pandas as pd\n",
    "import matplotlib.pyplot as plt\n",
    "import geopandas as gpd\n",
    "from shapely.geometry import Point, Polygon\n",
    "import descartes\n",
    "import seaborn as sns\n",
    "\n",
    "import warnings\n",
    "warnings.filterwarnings(\"ignore\")"
   ]
  },
  {
   "cell_type": "code",
   "execution_count": 2,
   "metadata": {},
   "outputs": [],
   "source": [
    "# importing data\n",
    "df = pd.read_csv('deep_sea_corals.csv')"
   ]
  },
  {
   "cell_type": "code",
   "execution_count": 3,
   "metadata": {},
   "outputs": [
    {
     "data": {
      "text/html": [
       "<div>\n",
       "<style scoped>\n",
       "    .dataframe tbody tr th:only-of-type {\n",
       "        vertical-align: middle;\n",
       "    }\n",
       "\n",
       "    .dataframe tbody tr th {\n",
       "        vertical-align: top;\n",
       "    }\n",
       "\n",
       "    .dataframe thead th {\n",
       "        text-align: right;\n",
       "    }\n",
       "</style>\n",
       "<table border=\"1\" class=\"dataframe\">\n",
       "  <thead>\n",
       "    <tr style=\"text-align: right;\">\n",
       "      <th></th>\n",
       "      <th>CatalogNumber</th>\n",
       "      <th>DataProvider</th>\n",
       "      <th>ScientificName</th>\n",
       "      <th>VernacularNameCategory</th>\n",
       "      <th>TaxonRank</th>\n",
       "      <th>Station</th>\n",
       "      <th>ObservationDate</th>\n",
       "      <th>latitude</th>\n",
       "      <th>longitude</th>\n",
       "      <th>DepthInMeters</th>\n",
       "      <th>DepthMethod</th>\n",
       "      <th>Locality</th>\n",
       "      <th>LocationAccuracy</th>\n",
       "      <th>SurveyID</th>\n",
       "      <th>Repository</th>\n",
       "      <th>IdentificationQualifier</th>\n",
       "      <th>EventID</th>\n",
       "      <th>SamplingEquipment</th>\n",
       "      <th>RecordType</th>\n",
       "      <th>SampleID</th>\n",
       "    </tr>\n",
       "  </thead>\n",
       "  <tbody>\n",
       "    <tr>\n",
       "      <th>0</th>\n",
       "      <td>NaN</td>\n",
       "      <td>NaN</td>\n",
       "      <td>NaN</td>\n",
       "      <td>NaN</td>\n",
       "      <td>NaN</td>\n",
       "      <td>NaN</td>\n",
       "      <td>NaN</td>\n",
       "      <td>degrees_north</td>\n",
       "      <td>degrees_east</td>\n",
       "      <td>NaN</td>\n",
       "      <td>NaN</td>\n",
       "      <td>NaN</td>\n",
       "      <td>NaN</td>\n",
       "      <td>NaN</td>\n",
       "      <td>NaN</td>\n",
       "      <td>NaN</td>\n",
       "      <td>NaN</td>\n",
       "      <td>NaN</td>\n",
       "      <td>NaN</td>\n",
       "      <td>NaN</td>\n",
       "    </tr>\n",
       "    <tr>\n",
       "      <th>1</th>\n",
       "      <td>625366.0</td>\n",
       "      <td>NOAA, Deep Sea Coral Research &amp; Technology Pro...</td>\n",
       "      <td>Madrepora oculata</td>\n",
       "      <td>stony coral (branching)</td>\n",
       "      <td>species</td>\n",
       "      <td>D2-EX1504L3-05</td>\n",
       "      <td>2015-09-02</td>\n",
       "      <td>18.30817</td>\n",
       "      <td>-158.45392</td>\n",
       "      <td>959.0</td>\n",
       "      <td>reported</td>\n",
       "      <td>Hawaiian Archipelago, Swordfish Seamount</td>\n",
       "      <td>50m</td>\n",
       "      <td>Hohonu Moana: Exploring Deep Waters off Hawai'i</td>\n",
       "      <td>University of Hawaii</td>\n",
       "      <td>ID by expert from video</td>\n",
       "      <td>D2-EX1504L3-05</td>\n",
       "      <td>ROV</td>\n",
       "      <td>video observation</td>\n",
       "      <td>EX1504L3_05_20150901T181522Z.mp4_05:45:26:28</td>\n",
       "    </tr>\n",
       "    <tr>\n",
       "      <th>2</th>\n",
       "      <td>625373.0</td>\n",
       "      <td>NOAA, Deep Sea Coral Research &amp; Technology Pro...</td>\n",
       "      <td>Madrepora oculata</td>\n",
       "      <td>stony coral (branching)</td>\n",
       "      <td>species</td>\n",
       "      <td>D2-EX1504L3-05</td>\n",
       "      <td>2015-09-01</td>\n",
       "      <td>18.30864</td>\n",
       "      <td>-158.45393</td>\n",
       "      <td>953.0</td>\n",
       "      <td>reported</td>\n",
       "      <td>Hawaiian Archipelago, Swordfish Seamount</td>\n",
       "      <td>50m</td>\n",
       "      <td>Hohonu Moana: Exploring Deep Waters off Hawai'i</td>\n",
       "      <td>University of Hawaii</td>\n",
       "      <td>ID by expert from video</td>\n",
       "      <td>D2-EX1504L3-05</td>\n",
       "      <td>ROV</td>\n",
       "      <td>video observation</td>\n",
       "      <td>EX1504L3_05_20150901T181522Z.mp4_05:24:35:53</td>\n",
       "    </tr>\n",
       "    <tr>\n",
       "      <th>3</th>\n",
       "      <td>625386.0</td>\n",
       "      <td>NOAA, Deep Sea Coral Research &amp; Technology Pro...</td>\n",
       "      <td>Madrepora oculata</td>\n",
       "      <td>stony coral (branching)</td>\n",
       "      <td>species</td>\n",
       "      <td>D2-EX1504L3-05</td>\n",
       "      <td>2015-09-01</td>\n",
       "      <td>18.30877</td>\n",
       "      <td>-158.45384</td>\n",
       "      <td>955.0</td>\n",
       "      <td>reported</td>\n",
       "      <td>Hawaiian Archipelago, Swordfish Seamount</td>\n",
       "      <td>50m</td>\n",
       "      <td>Hohonu Moana: Exploring Deep Waters off Hawai'i</td>\n",
       "      <td>University of Hawaii</td>\n",
       "      <td>ID by expert from video</td>\n",
       "      <td>D2-EX1504L3-05</td>\n",
       "      <td>ROV</td>\n",
       "      <td>video observation</td>\n",
       "      <td>EX1504L3_05_20150901T181522Z.mp4_05:15:22:09</td>\n",
       "    </tr>\n",
       "    <tr>\n",
       "      <th>4</th>\n",
       "      <td>625382.0</td>\n",
       "      <td>NOAA, Deep Sea Coral Research &amp; Technology Pro...</td>\n",
       "      <td>Madrepora oculata</td>\n",
       "      <td>stony coral (branching)</td>\n",
       "      <td>species</td>\n",
       "      <td>D2-EX1504L3-05</td>\n",
       "      <td>2015-09-01</td>\n",
       "      <td>18.30875</td>\n",
       "      <td>-158.45384</td>\n",
       "      <td>955.0</td>\n",
       "      <td>reported</td>\n",
       "      <td>Hawaiian Archipelago, Swordfish Seamount</td>\n",
       "      <td>50m</td>\n",
       "      <td>Hohonu Moana: Exploring Deep Waters off Hawai'i</td>\n",
       "      <td>University of Hawaii</td>\n",
       "      <td>ID by expert from video</td>\n",
       "      <td>D2-EX1504L3-05</td>\n",
       "      <td>ROV</td>\n",
       "      <td>video observation</td>\n",
       "      <td>EX1504L3_05_20150901T181522Z.mp4_05:13:29:50</td>\n",
       "    </tr>\n",
       "  </tbody>\n",
       "</table>\n",
       "</div>"
      ],
      "text/plain": [
       "   CatalogNumber                                       DataProvider  \\\n",
       "0            NaN                                                NaN   \n",
       "1       625366.0  NOAA, Deep Sea Coral Research & Technology Pro...   \n",
       "2       625373.0  NOAA, Deep Sea Coral Research & Technology Pro...   \n",
       "3       625386.0  NOAA, Deep Sea Coral Research & Technology Pro...   \n",
       "4       625382.0  NOAA, Deep Sea Coral Research & Technology Pro...   \n",
       "\n",
       "      ScientificName   VernacularNameCategory TaxonRank         Station  \\\n",
       "0                NaN                      NaN       NaN             NaN   \n",
       "1  Madrepora oculata  stony coral (branching)   species  D2-EX1504L3-05   \n",
       "2  Madrepora oculata  stony coral (branching)   species  D2-EX1504L3-05   \n",
       "3  Madrepora oculata  stony coral (branching)   species  D2-EX1504L3-05   \n",
       "4  Madrepora oculata  stony coral (branching)   species  D2-EX1504L3-05   \n",
       "\n",
       "  ObservationDate       latitude     longitude  DepthInMeters DepthMethod  \\\n",
       "0             NaN  degrees_north  degrees_east            NaN         NaN   \n",
       "1      2015-09-02       18.30817    -158.45392          959.0    reported   \n",
       "2      2015-09-01       18.30864    -158.45393          953.0    reported   \n",
       "3      2015-09-01       18.30877    -158.45384          955.0    reported   \n",
       "4      2015-09-01       18.30875    -158.45384          955.0    reported   \n",
       "\n",
       "                                   Locality LocationAccuracy  \\\n",
       "0                                       NaN              NaN   \n",
       "1  Hawaiian Archipelago, Swordfish Seamount              50m   \n",
       "2  Hawaiian Archipelago, Swordfish Seamount              50m   \n",
       "3  Hawaiian Archipelago, Swordfish Seamount              50m   \n",
       "4  Hawaiian Archipelago, Swordfish Seamount              50m   \n",
       "\n",
       "                                          SurveyID            Repository  \\\n",
       "0                                              NaN                   NaN   \n",
       "1  Hohonu Moana: Exploring Deep Waters off Hawai'i  University of Hawaii   \n",
       "2  Hohonu Moana: Exploring Deep Waters off Hawai'i  University of Hawaii   \n",
       "3  Hohonu Moana: Exploring Deep Waters off Hawai'i  University of Hawaii   \n",
       "4  Hohonu Moana: Exploring Deep Waters off Hawai'i  University of Hawaii   \n",
       "\n",
       "   IdentificationQualifier         EventID SamplingEquipment  \\\n",
       "0                      NaN             NaN               NaN   \n",
       "1  ID by expert from video  D2-EX1504L3-05               ROV   \n",
       "2  ID by expert from video  D2-EX1504L3-05               ROV   \n",
       "3  ID by expert from video  D2-EX1504L3-05               ROV   \n",
       "4  ID by expert from video  D2-EX1504L3-05               ROV   \n",
       "\n",
       "          RecordType                                      SampleID  \n",
       "0                NaN                                           NaN  \n",
       "1  video observation  EX1504L3_05_20150901T181522Z.mp4_05:45:26:28  \n",
       "2  video observation  EX1504L3_05_20150901T181522Z.mp4_05:24:35:53  \n",
       "3  video observation  EX1504L3_05_20150901T181522Z.mp4_05:15:22:09  \n",
       "4  video observation  EX1504L3_05_20150901T181522Z.mp4_05:13:29:50  "
      ]
     },
     "execution_count": 3,
     "metadata": {},
     "output_type": "execute_result"
    }
   ],
   "source": [
    "# previewing data\n",
    "df.head()"
   ]
  },
  {
   "cell_type": "markdown",
   "metadata": {},
   "source": [
    "# Prepare\n",
    "Preparing the data for exploration and modeling\n",
    "***"
   ]
  },
  {
   "cell_type": "code",
   "execution_count": 4,
   "metadata": {
    "scrolled": false
   },
   "outputs": [
    {
     "name": "stdout",
     "output_type": "stream",
     "text": [
      "<class 'pandas.core.frame.DataFrame'>\n",
      "RangeIndex: 513373 entries, 0 to 513372\n",
      "Data columns (total 20 columns):\n",
      " #   Column                   Non-Null Count   Dtype  \n",
      "---  ------                   --------------   -----  \n",
      " 0   CatalogNumber            513372 non-null  float64\n",
      " 1   DataProvider             513372 non-null  object \n",
      " 2   ScientificName           513372 non-null  object \n",
      " 3   VernacularNameCategory   513197 non-null  object \n",
      " 4   TaxonRank                513364 non-null  object \n",
      " 5   Station                  253590 non-null  object \n",
      " 6   ObservationDate          513367 non-null  object \n",
      " 7   latitude                 513373 non-null  object \n",
      " 8   longitude                513373 non-null  object \n",
      " 9   DepthInMeters            513372 non-null  float64\n",
      " 10  DepthMethod              496845 non-null  object \n",
      " 11  Locality                 389645 non-null  object \n",
      " 12  LocationAccuracy         484662 non-null  object \n",
      " 13  SurveyID                 306228 non-null  object \n",
      " 14  Repository               496584 non-null  object \n",
      " 15  IdentificationQualifier  488591 non-null  object \n",
      " 16  EventID                  472141 non-null  object \n",
      " 17  SamplingEquipment        485883 non-null  object \n",
      " 18  RecordType               501077 non-null  object \n",
      " 19  SampleID                 402294 non-null  object \n",
      "dtypes: float64(2), object(18)\n",
      "memory usage: 78.3+ MB\n"
     ]
    }
   ],
   "source": [
    "df.info()"
   ]
  },
  {
   "cell_type": "markdown",
   "metadata": {},
   "source": [
    "- Drop columns that will not be used in this iteration of the project\n",
    "    - CatalogNumber, SampleID, SurveyID, EventID, and Station\n",
    "        - Categorical columns with vast amounts of unique values that don't offer insight to anything within the scope of this project\n",
    "    - Locality\n",
    "        - Column holds a very large amount of categorical values\n",
    "        - Will be easier to work with if I bin the values as many appear to be near eachother but I'll save this for a later iteration of the project since it may take a significant amount of time\n",
    "\n",
    "     \n",
    "     \n",
    "- Many null values\n",
    "    - I'll drop them after dropping columns I don't plan to use for this first iteration of this project\n",
    "        - If too many rows are lost I'll impute values to preserve more rows \n",
    "        \n",
    "        \n",
    "- Data types look okay for now but I'll update if needed to facilitate operations\n",
    "\n",
    "\n",
    "- Rename columns \n",
    "    - all lowercase\n",
    "    - \"_\" between words in names\n",
    "\n",
    "\n",
    "- Make all values lowercase where applicable\n",
    "\n",
    "\n",
    "- Edit: DepthInMeters has a negative value in 23 rows.\n",
    "    - All had a value of -999\n",
    "    - I'm not certain but I suspect that this value was used instead of null\n",
    "    - I'm going to drop these rows as well"
   ]
  },
  {
   "cell_type": "markdown",
   "metadata": {},
   "source": [
    "### Dropping Columns"
   ]
  },
  {
   "cell_type": "code",
   "execution_count": 5,
   "metadata": {},
   "outputs": [],
   "source": [
    "# dropping specified columns\n",
    "df = df.drop(columns = ['CatalogNumber', 'SampleID', 'SurveyID', 'EventID', 'Station', 'Locality'])"
   ]
  },
  {
   "cell_type": "markdown",
   "metadata": {},
   "source": [
    "### Dropping Nulls"
   ]
  },
  {
   "cell_type": "code",
   "execution_count": 6,
   "metadata": {},
   "outputs": [],
   "source": [
    "# dropping all null values\n",
    "df = df.dropna()"
   ]
  },
  {
   "cell_type": "markdown",
   "metadata": {},
   "source": [
    "### Renaming Columns"
   ]
  },
  {
   "cell_type": "code",
   "execution_count": 7,
   "metadata": {},
   "outputs": [],
   "source": [
    "# adding underscores to various column names\n",
    "df.columns = ['Data_Provider', 'Scientific_Name', 'Vernacular_Name_Category', 'Taxon_Rank',\n",
    "              'Observation_Date', 'latitude', 'longitude', 'Depth_Meters','Depth_Method', \n",
    "              'Location_Accuracy', 'Repository', 'Identification_Qualifier', 'Sampling_Equipment',\n",
    "              'Record_Type']\n",
    "\n",
    "# lower casing all column names\n",
    "df.columns = df.columns.str.lower()"
   ]
  },
  {
   "cell_type": "markdown",
   "metadata": {},
   "source": [
    "### Converting all values to lower case"
   ]
  },
  {
   "cell_type": "code",
   "execution_count": 8,
   "metadata": {},
   "outputs": [],
   "source": [
    "df = df.applymap(lambda string:string.lower() if type(string) == str else string)"
   ]
  },
  {
   "cell_type": "markdown",
   "metadata": {},
   "source": [
    "### Dropping rows with negative depth_meters value"
   ]
  },
  {
   "cell_type": "code",
   "execution_count": 9,
   "metadata": {},
   "outputs": [],
   "source": [
    "df = df[df.depth_meters >= 0]"
   ]
  },
  {
   "cell_type": "markdown",
   "metadata": {},
   "source": [
    "# Explore\n",
    "Exploring the data to draw insights about the corals and the data related to them.\n",
    "***"
   ]
  },
  {
   "cell_type": "code",
   "execution_count": 10,
   "metadata": {},
   "outputs": [
    {
     "data": {
      "text/plain": [
       "Index(['data_provider', 'scientific_name', 'vernacular_name_category',\n",
       "       'taxon_rank', 'observation_date', 'latitude', 'longitude',\n",
       "       'depth_meters', 'depth_method', 'location_accuracy', 'repository',\n",
       "       'identification_qualifier', 'sampling_equipment', 'record_type'],\n",
       "      dtype='object')"
      ]
     },
     "execution_count": 10,
     "metadata": {},
     "output_type": "execute_result"
    }
   ],
   "source": [
    "df.columns"
   ]
  },
  {
   "cell_type": "markdown",
   "metadata": {},
   "source": [
    "## What are the major sources of this data?"
   ]
  },
  {
   "cell_type": "code",
   "execution_count": 11,
   "metadata": {
    "scrolled": true
   },
   "outputs": [
    {
     "data": {
      "text/plain": [
       "monterey bay aquarium research institute                0.42\n",
       "noaa, alaska fisheries science center                   0.16\n",
       "noaa, southwest fisheries science center, santa cruz    0.09\n",
       "noaa, olympic coast national marine sanctuary           0.08\n",
       "hawaii undersea research laboratory                     0.07\n",
       "noaa, office of ocean exploration and research          0.03\n",
       "temple university                                       0.02\n",
       "harbor branch oceanographic institute                   0.02\n",
       "noaa, southwest fisheries science center, la jolla      0.02\n",
       "noaa, northwest fisheries science center                0.02\n",
       "Name: data_provider, dtype: float64"
      ]
     },
     "execution_count": 11,
     "metadata": {},
     "output_type": "execute_result"
    }
   ],
   "source": [
    "round(df.data_provider.value_counts() / len(df),2).head(10)"
   ]
  },
  {
   "cell_type": "markdown",
   "metadata": {},
   "source": [
    "- After the Monterey Bay Aquarium Research Institute, NOAA appears to be the next largest provider\n",
    "- I'm going to find out how many observations come from one of NOAA's facilities"
   ]
  },
  {
   "cell_type": "code",
   "execution_count": 12,
   "metadata": {},
   "outputs": [
    {
     "name": "stdout",
     "output_type": "stream",
     "text": [
      "noaa, alaska fisheries science center                                                              0.16\n",
      "noaa, southwest fisheries science center, santa cruz                                               0.09\n",
      "noaa, olympic coast national marine sanctuary                                                      0.08\n",
      "noaa, office of ocean exploration and research                                                     0.03\n",
      "noaa, southwest fisheries science center, la jolla                                                 0.02\n",
      "noaa, northwest fisheries science center                                                           0.02\n",
      "noaa, deep sea coral research & technology program and office of ocean exploration and research    0.01\n",
      "noaa, channel islands national marine sanctuary                                                    0.01\n",
      "noaa, flower garden banks national marine sanctuary                                                0.01\n",
      "noaa, office of response and restoration                                                           0.00\n",
      "noaa, cordell bank national marine sanctuary                                                       0.00\n",
      "Name: data_provider, dtype: float64 \n",
      "\n",
      "Total % of observations from NOAA: 43.0%\n"
     ]
    }
   ],
   "source": [
    "a = round(df[df.data_provider.str.contains('noaa')].data_provider.value_counts() / len(df), 2)\n",
    "\n",
    "print(a,'\\n')\n",
    "print(f'Total % of observations from NOAA: {a.sum() * 100}%')"
   ]
  },
  {
   "cell_type": "markdown",
   "metadata": {},
   "source": [
    "- Approximately 42% of the data comes from the Monteret Bay Aquiarium Research Institute\n",
    "- Approximately 43% of the data comes from NOAA facilities\n",
    "- The remaining 15% of observations come from alternate facilities"
   ]
  },
  {
   "cell_type": "markdown",
   "metadata": {},
   "source": [
    "## What is the range of dates that the observations cover?"
   ]
  },
  {
   "cell_type": "code",
   "execution_count": 13,
   "metadata": {},
   "outputs": [
    {
     "name": "stdout",
     "output_type": "stream",
     "text": [
      "The dates of the observations range from 1868-05-04 to 2016-03-27.\n"
     ]
    }
   ],
   "source": [
    "first_date = df.observation_date.min()\n",
    "\n",
    "last_date = df.observation_date.max()\n",
    "\n",
    "print(f'The dates of the observations range from {first_date} to {last_date}.')"
   ]
  },
  {
   "cell_type": "markdown",
   "metadata": {},
   "source": [
    "## What are the shallowest and deepest depths within the data?"
   ]
  },
  {
   "cell_type": "code",
   "execution_count": 14,
   "metadata": {},
   "outputs": [
    {
     "name": "stdout",
     "output_type": "stream",
     "text": [
      "The most shallow observation(s) had a depth of 0.0, and the deepest observation(s) had a depth of 6292.0.\n"
     ]
    }
   ],
   "source": [
    "least_deep = df.depth_meters.min()\n",
    "most_deep = df.depth_meters.max()\n",
    "\n",
    "print(f'The most shallow observation(s) had a depth of {least_deep}, and the deepest observation(s) had a depth of {most_deep}.')"
   ]
  },
  {
   "cell_type": "markdown",
   "metadata": {},
   "source": [
    "## How many different types of corals are represented in data? (vernacular name)"
   ]
  },
  {
   "cell_type": "code",
   "execution_count": 15,
   "metadata": {},
   "outputs": [
    {
     "name": "stdout",
     "output_type": "stream",
     "text": [
      "gorgonian coral               132830\n",
      "sponge (unspecified)           74409\n",
      "sea pen                        63154\n",
      "glass sponge                   54335\n",
      "soft coral                     37769\n",
      "demosponge                     35020\n",
      "black coral                    21481\n",
      "lace coral                     19496\n",
      "stony coral (branching)        12627\n",
      "stony coral (cup coral)         5599\n",
      "stony coral (unspecified)       3979\n",
      "gold coral                      2599\n",
      "stoloniferan coral               854\n",
      "calcareous sponge                766\n",
      "scleromorph sponge               258\n",
      "other coral-like hydrozoan       140\n",
      "lithotelestid coral                1\n",
      "Name: vernacular_name_category, dtype: int64 \n",
      "\n",
      "There are 17 different types of corals in the data.\n"
     ]
    }
   ],
   "source": [
    "vernac_count = df.vernacular_name_category.value_counts()\n",
    "\n",
    "print(vernac_count,'\\n')\n",
    "print(f'There are {len(vernac_count)} different types of corals in the data.')"
   ]
  },
  {
   "cell_type": "markdown",
   "metadata": {},
   "source": [
    "## What was the most common type of sampling equipment used?\n"
   ]
  },
  {
   "cell_type": "code",
   "execution_count": 16,
   "metadata": {},
   "outputs": [
    {
     "name": "stdout",
     "output_type": "stream",
     "text": [
      "rov               319467\n",
      "submersible        66378\n",
      "trawl              49346\n",
      "towed camera       16039\n",
      "longline            9463\n",
      "auv                 2535\n",
      "drop camera         1182\n",
      "dredge               692\n",
      "net                   99\n",
      "multiple gears        78\n",
      "grab                  10\n",
      "scuba                 10\n",
      "trap                   8\n",
      "pot                    5\n",
      "other                  2\n",
      "corer                  2\n",
      "hook and line          1\n",
      "Name: sampling_equipment, dtype: int64 \n",
      "\n",
      "There are 17 different types of equipment in the data.\n"
     ]
    }
   ],
   "source": [
    "equip_count = df.sampling_equipment.value_counts()\n",
    "\n",
    "print(equip_count,'\\n')\n",
    "print(f'There are {len(equip_count)} different types of equipment in the data.')"
   ]
  },
  {
   "cell_type": "markdown",
   "metadata": {},
   "source": [
    "## What types of methods were used to qualify the data?"
   ]
  },
  {
   "cell_type": "code",
   "execution_count": 17,
   "metadata": {},
   "outputs": [
    {
     "data": {
      "text/plain": [
       "id by expert from video                                              139857\n",
       "id from video                                                        123765\n",
       "id by expert from image                                               44308\n",
       "id by non-expert from trawl survey                                    24436\n",
       "field id by non-expert from video                                     23627\n",
       "good                                                                  18958\n",
       "id by non-expert from video                                           17047\n",
       "id by expert from still images                                        14504\n",
       "field id by non-expert from trawl survey bycatch specimen             13522\n",
       "id by non-expert from sample                                           9460\n",
       "good - id from video                                                   8334\n",
       "morphological id by taxonomic expert                                   5562\n",
       "non-expert                                                             4583\n",
       "id by expert from                                                      3914\n",
       "field id                                                               3709\n",
       "morphological id from sample by taxonomic expert                       3365\n",
       "field id by non-expert from photo                                      1552\n",
       "genetic                                                                1182\n",
       "expert from video                                                      1117\n",
       "id by non-expert from image                                             431\n",
       "non-expert from image                                                   360\n",
       "poor                                                                    245\n",
       "expert with sample                                                      229\n",
       "poor - id from video                                                    202\n",
       "field id by expert from photo                                           187\n",
       "questionable                                                            153\n",
       "id by expert from trawl survey                                          129\n",
       "id from video by expert                                                 118\n",
       "id by expert from in situ photo                                          98\n",
       "morphological taxonomist                                                 74\n",
       "morphological and genetic id by taxonomic expert                         66\n",
       "questionable - id from video                                             60\n",
       "expert with sample; genetic                                              50\n",
       "morphological id from sample by trained observer                         37\n",
       "id uncertain                                                             33\n",
       "morphological id by res. associate                                       21\n",
       "morphological and genetic id from sample by taxonomic expert             17\n",
       "morphological id by res associate                                         1\n",
       "morphological id by taxonomic expert; genetic bar code                    1\n",
       "morphological id by taxonomic expert with molecular sequence data         1\n",
       "id by taxonomic expert from specimen                                      1\n",
       "morphological id by author                                                1\n",
       "Name: identification_qualifier, dtype: int64"
      ]
     },
     "execution_count": 17,
     "metadata": {},
     "output_type": "execute_result"
    }
   ],
   "source": [
    "df.identification_qualifier.value_counts()"
   ]
  },
  {
   "cell_type": "markdown",
   "metadata": {},
   "source": [
    "- Videos, images, and photos appear to be the most common identification qualifiers\n",
    "- I'd like to know how much of the data was qualified using these methods"
   ]
  },
  {
   "cell_type": "markdown",
   "metadata": {},
   "source": [
    "## How much data was qualified using video?"
   ]
  },
  {
   "cell_type": "code",
   "execution_count": 18,
   "metadata": {
    "scrolled": true
   },
   "outputs": [
    {
     "name": "stdout",
     "output_type": "stream",
     "text": [
      "id by expert from video              0.30\n",
      "id from video                        0.27\n",
      "field id by non-expert from video    0.05\n",
      "id by non-expert from video          0.04\n",
      "good - id from video                 0.02\n",
      "expert from video                    0.00\n",
      "poor - id from video                 0.00\n",
      "id from video by expert              0.00\n",
      "questionable - id from video         0.00\n",
      "Name: identification_qualifier, dtype: float64 \n",
      "\n",
      "Total % of observations qualified by video: 68.0%\n"
     ]
    }
   ],
   "source": [
    "vids = round(df[df.identification_qualifier.str.contains('video')].identification_qualifier.value_counts() / len(df), 2)\n",
    "\n",
    "print(vids,'\\n')\n",
    "print(f'Total % of observations qualified by video: {round(vids.sum()*100, 2)}%')"
   ]
  },
  {
   "cell_type": "markdown",
   "metadata": {},
   "source": [
    "## How much data was qualified using photos or images?"
   ]
  },
  {
   "cell_type": "code",
   "execution_count": 19,
   "metadata": {},
   "outputs": [
    {
     "name": "stdout",
     "output_type": "stream",
     "text": [
      "id by expert from image              0.095221\n",
      "id by expert from still images       0.031170\n",
      "field id by non-expert from photo    0.003335\n",
      "id by non-expert from image          0.000926\n",
      "non-expert from image                0.000774\n",
      "field id by expert from photo        0.000402\n",
      "id by expert from in situ photo      0.000211\n",
      "Name: identification_qualifier, dtype: float64 \n",
      "\n",
      "Total % of observations qualified by photos or images: 13.2%\n"
     ]
    }
   ],
   "source": [
    "photos = df[(df.identification_qualifier.str.contains('photo')) | (df.identification_qualifier.str.contains('image'))].identification_qualifier.value_counts() / len(df)\n",
    "            \n",
    "print(photos,'\\n')\n",
    "print(f'Total % of observations qualified by photos or images: {round(photos.sum()*100, 2)}%')            "
   ]
  },
  {
   "cell_type": "markdown",
   "metadata": {},
   "source": [
    "- Videos qualified approximately 68% of observations\n",
    "- Photos or Images qualified approximately 13% of observations\n",
    "- Combined, more than 80% of the data was was qualified with either photos, images, or videos"
   ]
  },
  {
   "cell_type": "code",
   "execution_count": 20,
   "metadata": {},
   "outputs": [],
   "source": [
    "def df_to_gdf(df):\n",
    "    coordinates = df[['latitude', 'longitude']].astype(float).values\n",
    "    coordinates = pd.DataFrame(data = coordinates)\n",
    "    coordinates.columns = ['latitude', 'longitude']\n",
    "    coordinates = [Point(xy) for xy in zip(coordinates.longitude, coordinates.latitude)]\n",
    "    geo_df = gpd.GeoDataFrame(df, crs={'init': 'epsg:4326'}, geometry=coordinates)\n",
    "    return geo_df"
   ]
  },
  {
   "cell_type": "code",
   "execution_count": 22,
   "metadata": {},
   "outputs": [
    {
     "data": {
      "image/png": "[encoded data removed]",
      "text/plain": [
       "<Figure size 864x576 with 1 Axes>"
      ]
     },
     "metadata": {},
     "output_type": "display_data"
    }
   ],
   "source": [
    "# setting figure size for all plots\n",
    "sns.set(rc = {'figure.figsize':(12,8)})\n",
    "\n",
    "#loading worldmap\n",
    "world = gpd.read_file(gpd.datasets.get_path('naturalearth_lowres'))\n",
    "base = world.plot(color='white', edgecolor='black')\n",
    "\n",
    "coral_vernacs = df[df.vernacular_name_category.str.contains('coral')]\n",
    "sponge_vernacs = df[df.vernacular_name_category.str.contains('sponge')]\n",
    "\n",
    "#to geo dataframe\n",
    "coral_obs = df_to_gdf(coral_vernacs)\n",
    "sponge_obs = df_to_gdf(sponge_vernacs)\n",
    "\n",
    "coral_obs.plot(ax=base, marker='o', color='blue', markersize=0.5)\n",
    "gdf_max_depth.plot(ax=base, marker='o', color='green', markersize=0.5)\n",
    "plt.show()"
   ]
  },
  {
   "cell_type": "code",
   "execution_count": null,
   "metadata": {},
   "outputs": [],
   "source": []
  }
 ],
 "metadata": {
  "kernelspec": {
   "display_name": "Python 3",
   "language": "python",
   "name": "python3"
  },
  "language_info": {
   "codemirror_mode": {
    "name": "ipython",
    "version": 3
   },
   "file_extension": ".py",
   "mimetype": "text/x-python",
   "name": "python",
   "nbconvert_exporter": "python",
   "pygments_lexer": "ipython3",
   "version": "3.7.6"
  }
 },
 "nbformat": 4,
 "nbformat_minor": 4
}

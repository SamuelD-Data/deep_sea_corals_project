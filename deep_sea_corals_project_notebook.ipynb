{
 "cells": [
  {
   "cell_type": "markdown",
   "metadata": {},
   "source": [
    "# DEEP SEA CORALS PROJECT\n",
    "***"
   ]
  },
  {
   "cell_type": "markdown",
   "metadata": {},
   "source": [
    "# Goals\n",
    "***"
   ]
  },
  {
   "cell_type": "markdown",
   "metadata": {},
   "source": [
    "- Draw insights about corals\n",
    "- Create a model that can predict the vernacular name cateogories of the corals"
   ]
  },
  {
   "cell_type": "markdown",
   "metadata": {},
   "source": [
    "# Acquire\n",
    "Acquiring the data from local csv file\n",
    "***"
   ]
  },
  {
   "cell_type": "code",
   "execution_count": 1,
   "metadata": {},
   "outputs": [],
   "source": [
    "# establishing environment\n",
    "import pandas as pd\n",
    "\n",
    "import warnings\n",
    "warnings.filterwarnings(\"ignore\")"
   ]
  },
  {
   "cell_type": "code",
   "execution_count": 2,
   "metadata": {},
   "outputs": [],
   "source": [
    "# importing data\n",
    "df = pd.read_csv('deep_sea_corals.csv')"
   ]
  },
  {
   "cell_type": "code",
   "execution_count": 3,
   "metadata": {},
   "outputs": [
    {
     "data": {
      "text/html": [
       "<div>\n",
       "<style scoped>\n",
       "    .dataframe tbody tr th:only-of-type {\n",
       "        vertical-align: middle;\n",
       "    }\n",
       "\n",
       "    .dataframe tbody tr th {\n",
       "        vertical-align: top;\n",
       "    }\n",
       "\n",
       "    .dataframe thead th {\n",
       "        text-align: right;\n",
       "    }\n",
       "</style>\n",
       "<table border=\"1\" class=\"dataframe\">\n",
       "  <thead>\n",
       "    <tr style=\"text-align: right;\">\n",
       "      <th></th>\n",
       "      <th>CatalogNumber</th>\n",
       "      <th>DataProvider</th>\n",
       "      <th>ScientificName</th>\n",
       "      <th>VernacularNameCategory</th>\n",
       "      <th>TaxonRank</th>\n",
       "      <th>Station</th>\n",
       "      <th>ObservationDate</th>\n",
       "      <th>latitude</th>\n",
       "      <th>longitude</th>\n",
       "      <th>DepthInMeters</th>\n",
       "      <th>DepthMethod</th>\n",
       "      <th>Locality</th>\n",
       "      <th>LocationAccuracy</th>\n",
       "      <th>SurveyID</th>\n",
       "      <th>Repository</th>\n",
       "      <th>IdentificationQualifier</th>\n",
       "      <th>EventID</th>\n",
       "      <th>SamplingEquipment</th>\n",
       "      <th>RecordType</th>\n",
       "      <th>SampleID</th>\n",
       "    </tr>\n",
       "  </thead>\n",
       "  <tbody>\n",
       "    <tr>\n",
       "      <th>0</th>\n",
       "      <td>NaN</td>\n",
       "      <td>NaN</td>\n",
       "      <td>NaN</td>\n",
       "      <td>NaN</td>\n",
       "      <td>NaN</td>\n",
       "      <td>NaN</td>\n",
       "      <td>NaN</td>\n",
       "      <td>degrees_north</td>\n",
       "      <td>degrees_east</td>\n",
       "      <td>NaN</td>\n",
       "      <td>NaN</td>\n",
       "      <td>NaN</td>\n",
       "      <td>NaN</td>\n",
       "      <td>NaN</td>\n",
       "      <td>NaN</td>\n",
       "      <td>NaN</td>\n",
       "      <td>NaN</td>\n",
       "      <td>NaN</td>\n",
       "      <td>NaN</td>\n",
       "      <td>NaN</td>\n",
       "    </tr>\n",
       "    <tr>\n",
       "      <th>1</th>\n",
       "      <td>625366.0</td>\n",
       "      <td>NOAA, Deep Sea Coral Research &amp; Technology Pro...</td>\n",
       "      <td>Madrepora oculata</td>\n",
       "      <td>stony coral (branching)</td>\n",
       "      <td>species</td>\n",
       "      <td>D2-EX1504L3-05</td>\n",
       "      <td>2015-09-02</td>\n",
       "      <td>18.30817</td>\n",
       "      <td>-158.45392</td>\n",
       "      <td>959.0</td>\n",
       "      <td>reported</td>\n",
       "      <td>Hawaiian Archipelago, Swordfish Seamount</td>\n",
       "      <td>50m</td>\n",
       "      <td>Hohonu Moana: Exploring Deep Waters off Hawai'i</td>\n",
       "      <td>University of Hawaii</td>\n",
       "      <td>ID by expert from video</td>\n",
       "      <td>D2-EX1504L3-05</td>\n",
       "      <td>ROV</td>\n",
       "      <td>video observation</td>\n",
       "      <td>EX1504L3_05_20150901T181522Z.mp4_05:45:26:28</td>\n",
       "    </tr>\n",
       "    <tr>\n",
       "      <th>2</th>\n",
       "      <td>625373.0</td>\n",
       "      <td>NOAA, Deep Sea Coral Research &amp; Technology Pro...</td>\n",
       "      <td>Madrepora oculata</td>\n",
       "      <td>stony coral (branching)</td>\n",
       "      <td>species</td>\n",
       "      <td>D2-EX1504L3-05</td>\n",
       "      <td>2015-09-01</td>\n",
       "      <td>18.30864</td>\n",
       "      <td>-158.45393</td>\n",
       "      <td>953.0</td>\n",
       "      <td>reported</td>\n",
       "      <td>Hawaiian Archipelago, Swordfish Seamount</td>\n",
       "      <td>50m</td>\n",
       "      <td>Hohonu Moana: Exploring Deep Waters off Hawai'i</td>\n",
       "      <td>University of Hawaii</td>\n",
       "      <td>ID by expert from video</td>\n",
       "      <td>D2-EX1504L3-05</td>\n",
       "      <td>ROV</td>\n",
       "      <td>video observation</td>\n",
       "      <td>EX1504L3_05_20150901T181522Z.mp4_05:24:35:53</td>\n",
       "    </tr>\n",
       "    <tr>\n",
       "      <th>3</th>\n",
       "      <td>625386.0</td>\n",
       "      <td>NOAA, Deep Sea Coral Research &amp; Technology Pro...</td>\n",
       "      <td>Madrepora oculata</td>\n",
       "      <td>stony coral (branching)</td>\n",
       "      <td>species</td>\n",
       "      <td>D2-EX1504L3-05</td>\n",
       "      <td>2015-09-01</td>\n",
       "      <td>18.30877</td>\n",
       "      <td>-158.45384</td>\n",
       "      <td>955.0</td>\n",
       "      <td>reported</td>\n",
       "      <td>Hawaiian Archipelago, Swordfish Seamount</td>\n",
       "      <td>50m</td>\n",
       "      <td>Hohonu Moana: Exploring Deep Waters off Hawai'i</td>\n",
       "      <td>University of Hawaii</td>\n",
       "      <td>ID by expert from video</td>\n",
       "      <td>D2-EX1504L3-05</td>\n",
       "      <td>ROV</td>\n",
       "      <td>video observation</td>\n",
       "      <td>EX1504L3_05_20150901T181522Z.mp4_05:15:22:09</td>\n",
       "    </tr>\n",
       "    <tr>\n",
       "      <th>4</th>\n",
       "      <td>625382.0</td>\n",
       "      <td>NOAA, Deep Sea Coral Research &amp; Technology Pro...</td>\n",
       "      <td>Madrepora oculata</td>\n",
       "      <td>stony coral (branching)</td>\n",
       "      <td>species</td>\n",
       "      <td>D2-EX1504L3-05</td>\n",
       "      <td>2015-09-01</td>\n",
       "      <td>18.30875</td>\n",
       "      <td>-158.45384</td>\n",
       "      <td>955.0</td>\n",
       "      <td>reported</td>\n",
       "      <td>Hawaiian Archipelago, Swordfish Seamount</td>\n",
       "      <td>50m</td>\n",
       "      <td>Hohonu Moana: Exploring Deep Waters off Hawai'i</td>\n",
       "      <td>University of Hawaii</td>\n",
       "      <td>ID by expert from video</td>\n",
       "      <td>D2-EX1504L3-05</td>\n",
       "      <td>ROV</td>\n",
       "      <td>video observation</td>\n",
       "      <td>EX1504L3_05_20150901T181522Z.mp4_05:13:29:50</td>\n",
       "    </tr>\n",
       "  </tbody>\n",
       "</table>\n",
       "</div>"
      ],
      "text/plain": [
       "   CatalogNumber                                       DataProvider  \\\n",
       "0            NaN                                                NaN   \n",
       "1       625366.0  NOAA, Deep Sea Coral Research & Technology Pro...   \n",
       "2       625373.0  NOAA, Deep Sea Coral Research & Technology Pro...   \n",
       "3       625386.0  NOAA, Deep Sea Coral Research & Technology Pro...   \n",
       "4       625382.0  NOAA, Deep Sea Coral Research & Technology Pro...   \n",
       "\n",
       "      ScientificName   VernacularNameCategory TaxonRank         Station  \\\n",
       "0                NaN                      NaN       NaN             NaN   \n",
       "1  Madrepora oculata  stony coral (branching)   species  D2-EX1504L3-05   \n",
       "2  Madrepora oculata  stony coral (branching)   species  D2-EX1504L3-05   \n",
       "3  Madrepora oculata  stony coral (branching)   species  D2-EX1504L3-05   \n",
       "4  Madrepora oculata  stony coral (branching)   species  D2-EX1504L3-05   \n",
       "\n",
       "  ObservationDate       latitude     longitude  DepthInMeters DepthMethod  \\\n",
       "0             NaN  degrees_north  degrees_east            NaN         NaN   \n",
       "1      2015-09-02       18.30817    -158.45392          959.0    reported   \n",
       "2      2015-09-01       18.30864    -158.45393          953.0    reported   \n",
       "3      2015-09-01       18.30877    -158.45384          955.0    reported   \n",
       "4      2015-09-01       18.30875    -158.45384          955.0    reported   \n",
       "\n",
       "                                   Locality LocationAccuracy  \\\n",
       "0                                       NaN              NaN   \n",
       "1  Hawaiian Archipelago, Swordfish Seamount              50m   \n",
       "2  Hawaiian Archipelago, Swordfish Seamount              50m   \n",
       "3  Hawaiian Archipelago, Swordfish Seamount              50m   \n",
       "4  Hawaiian Archipelago, Swordfish Seamount              50m   \n",
       "\n",
       "                                          SurveyID            Repository  \\\n",
       "0                                              NaN                   NaN   \n",
       "1  Hohonu Moana: Exploring Deep Waters off Hawai'i  University of Hawaii   \n",
       "2  Hohonu Moana: Exploring Deep Waters off Hawai'i  University of Hawaii   \n",
       "3  Hohonu Moana: Exploring Deep Waters off Hawai'i  University of Hawaii   \n",
       "4  Hohonu Moana: Exploring Deep Waters off Hawai'i  University of Hawaii   \n",
       "\n",
       "   IdentificationQualifier         EventID SamplingEquipment  \\\n",
       "0                      NaN             NaN               NaN   \n",
       "1  ID by expert from video  D2-EX1504L3-05               ROV   \n",
       "2  ID by expert from video  D2-EX1504L3-05               ROV   \n",
       "3  ID by expert from video  D2-EX1504L3-05               ROV   \n",
       "4  ID by expert from video  D2-EX1504L3-05               ROV   \n",
       "\n",
       "          RecordType                                      SampleID  \n",
       "0                NaN                                           NaN  \n",
       "1  video observation  EX1504L3_05_20150901T181522Z.mp4_05:45:26:28  \n",
       "2  video observation  EX1504L3_05_20150901T181522Z.mp4_05:24:35:53  \n",
       "3  video observation  EX1504L3_05_20150901T181522Z.mp4_05:15:22:09  \n",
       "4  video observation  EX1504L3_05_20150901T181522Z.mp4_05:13:29:50  "
      ]
     },
     "execution_count": 3,
     "metadata": {},
     "output_type": "execute_result"
    }
   ],
   "source": [
    "# previewing data\n",
    "df.head()"
   ]
  },
  {
   "cell_type": "markdown",
   "metadata": {},
   "source": [
    "# Prepare\n",
    "Preparing the data for exploration and modeling\n",
    "***"
   ]
  },
  {
   "cell_type": "code",
   "execution_count": 4,
   "metadata": {
    "scrolled": false
   },
   "outputs": [
    {
     "name": "stdout",
     "output_type": "stream",
     "text": [
      "<class 'pandas.core.frame.DataFrame'>\n",
      "RangeIndex: 513373 entries, 0 to 513372\n",
      "Data columns (total 20 columns):\n",
      " #   Column                   Non-Null Count   Dtype  \n",
      "---  ------                   --------------   -----  \n",
      " 0   CatalogNumber            513372 non-null  float64\n",
      " 1   DataProvider             513372 non-null  object \n",
      " 2   ScientificName           513372 non-null  object \n",
      " 3   VernacularNameCategory   513197 non-null  object \n",
      " 4   TaxonRank                513364 non-null  object \n",
      " 5   Station                  253590 non-null  object \n",
      " 6   ObservationDate          513367 non-null  object \n",
      " 7   latitude                 513373 non-null  object \n",
      " 8   longitude                513373 non-null  object \n",
      " 9   DepthInMeters            513372 non-null  float64\n",
      " 10  DepthMethod              496845 non-null  object \n",
      " 11  Locality                 389645 non-null  object \n",
      " 12  LocationAccuracy         484662 non-null  object \n",
      " 13  SurveyID                 306228 non-null  object \n",
      " 14  Repository               496584 non-null  object \n",
      " 15  IdentificationQualifier  488591 non-null  object \n",
      " 16  EventID                  472141 non-null  object \n",
      " 17  SamplingEquipment        485883 non-null  object \n",
      " 18  RecordType               501077 non-null  object \n",
      " 19  SampleID                 402294 non-null  object \n",
      "dtypes: float64(2), object(18)\n",
      "memory usage: 78.3+ MB\n"
     ]
    }
   ],
   "source": [
    "df.info()"
   ]
  },
  {
   "cell_type": "markdown",
   "metadata": {},
   "source": [
    "- Drop CatalogNumber and SampleID columns\n",
    "     - The information in these columns will not be useful for the operations of this project\n",
    "     \n",
    "     \n",
    "- Many null values\n",
    "    - I'll drop them after dropping columns I don't plan to use for this first iteration of this project\n",
    "        - If too many rows are lost I'll impute values to preserve more rows \n",
    "        \n",
    "        \n",
    "- Data types look okay for now but I'll update if needed to facilitate operations\n",
    "\n",
    "\n",
    "- Rename columns \n",
    "    - all lowercase\n",
    "    - \"_\" between words in names\n",
    "\n",
    "\n",
    "- Make all values lowercase where applicable"
   ]
  },
  {
   "cell_type": "markdown",
   "metadata": {},
   "source": [
    "### Dropping Columns"
   ]
  },
  {
   "cell_type": "code",
   "execution_count": 5,
   "metadata": {},
   "outputs": [],
   "source": [
    "# dropping specified columns\n",
    "df = df.drop(columns = ['CatalogNumber', 'SampleID'])"
   ]
  },
  {
   "cell_type": "markdown",
   "metadata": {},
   "source": [
    "### Dropping Nulls"
   ]
  },
  {
   "cell_type": "code",
   "execution_count": 6,
   "metadata": {},
   "outputs": [],
   "source": [
    "# dropping all null values\n",
    "df = df.dropna()"
   ]
  },
  {
   "cell_type": "markdown",
   "metadata": {},
   "source": [
    "### Renaming Columns"
   ]
  },
  {
   "cell_type": "code",
   "execution_count": 20,
   "metadata": {},
   "outputs": [],
   "source": [
    "# adding underscores to various column names\n",
    "df.columns = ['Data_Provider', 'Scientific_Name', 'Vernacular_Name_Category', 'Taxon_Rank',\n",
    "       'Station', 'Observation_Date', 'latitude', 'longitude', 'Depth_Meters',\n",
    "       'Depth_Method', 'Locality', 'Location_Accuracy', 'Survey_ID', 'Repository',\n",
    "       'Identification_Qualifier', 'Event_ID', 'Sampling_Equipment',\n",
    "       'Record_Type']\n",
    "\n",
    "# lower casing all column names\n",
    "df.columns = df.columns.str.lower()"
   ]
  },
  {
   "cell_type": "markdown",
   "metadata": {},
   "source": [
    "# Explore\n",
    "Exploring the data to draw insights about the corals\n",
    "***"
   ]
  },
  {
   "cell_type": "code",
   "execution_count": 21,
   "metadata": {},
   "outputs": [
    {
     "name": "stdout",
     "output_type": "stream",
     "text": [
      "<class 'pandas.core.frame.DataFrame'>\n",
      "Int64Index: 180466 entries, 1 to 511957\n",
      "Data columns (total 18 columns):\n",
      " #   Column                    Non-Null Count   Dtype  \n",
      "---  ------                    --------------   -----  \n",
      " 0   data_provider             180466 non-null  object \n",
      " 1   scientific_name           180466 non-null  object \n",
      " 2   vernacular_name_category  180466 non-null  object \n",
      " 3   taxon_rank                180466 non-null  object \n",
      " 4   station                   180466 non-null  object \n",
      " 5   observation_date          180466 non-null  object \n",
      " 6   latitude                  180466 non-null  object \n",
      " 7   longitude                 180466 non-null  object \n",
      " 8   depth_meters              180466 non-null  float64\n",
      " 9   depth_method              180466 non-null  object \n",
      " 10  locality                  180466 non-null  object \n",
      " 11  location_accuracy         180466 non-null  object \n",
      " 12  survey_id                 180466 non-null  object \n",
      " 13  repository                180466 non-null  object \n",
      " 14  identification_qualifier  180466 non-null  object \n",
      " 15  event_id                  180466 non-null  object \n",
      " 16  sampling_equipment        180466 non-null  object \n",
      " 17  record_type               180466 non-null  object \n",
      "dtypes: float64(1), object(17)\n",
      "memory usage: 26.2+ MB\n"
     ]
    }
   ],
   "source": [
    "df.info()"
   ]
  },
  {
   "cell_type": "code",
   "execution_count": 9,
   "metadata": {
    "scrolled": true
   },
   "outputs": [
    {
     "data": {
      "text/plain": [
       "NOAA, Alaska Fisheries Science Center                                                              57621\n",
       "NOAA, Southwest Fisheries Science Center, Santa Cruz                                               42456\n",
       "NOAA, Olympic Coast National Marine Sanctuary                                                      35821\n",
       "NOAA, Office of Ocean Exploration and Research                                                     11149\n",
       "Temple University                                                                                  10893\n",
       "Harbor Branch Oceanographic Institute                                                               9365\n",
       "NOAA, Deep Sea Coral Research & Technology Program and Office of Ocean Exploration and Research     6166\n",
       "Ross, Steve                                                                                         2859\n",
       "NOAA, Northwest Fisheries Science Center                                                            1553\n",
       "Bureau of Ocean Energy Management                                                                    803\n",
       "Smithsonian Institution, National Museum of Natural History                                          650\n",
       "Quattrini, Andrea                                                                                    398\n",
       "Schmidt Ocean Institute                                                                              373\n",
       "Hawaii Undersea Research Laboratory                                                                  194\n",
       "California Academy of Sciences                                                                        98\n",
       "Thoma, Jana                                                                                           44\n",
       "Yale University Peabody Museum                                                                        23\n",
       "Name: DataProvider, dtype: int64"
      ]
     },
     "execution_count": 9,
     "metadata": {},
     "output_type": "execute_result"
    }
   ],
   "source": [
    "df.DataProvider.value_counts()"
   ]
  },
  {
   "cell_type": "code",
   "execution_count": 10,
   "metadata": {
    "scrolled": true
   },
   "outputs": [
    {
     "data": {
      "text/plain": [
       "Porifera              33618\n",
       "Stylaster sp.         12403\n",
       "Lophelia pertusa       9636\n",
       "Gorgonacea             8443\n",
       "Latrunculia sp.        7332\n",
       "                      ...  \n",
       "Anthomuricea sp.          1\n",
       "Vulcanellidae             1\n",
       "Myriopathes ulex          1\n",
       "Plumarella superba        1\n",
       "Telopathes sp.            1\n",
       "Name: ScientificName, Length: 577, dtype: int64"
      ]
     },
     "execution_count": 10,
     "metadata": {},
     "output_type": "execute_result"
    }
   ],
   "source": [
    "df.ScientificName.value_counts()"
   ]
  },
  {
   "cell_type": "code",
   "execution_count": 11,
   "metadata": {
    "scrolled": true
   },
   "outputs": [
    {
     "data": {
      "text/plain": [
       "gorgonian coral               52346\n",
       "sponge (unspecified)          33618\n",
       "demosponge                    27965\n",
       "glass sponge                  16331\n",
       "lace coral                    16183\n",
       "stony coral (branching)       11071\n",
       "soft coral                     8724\n",
       "black coral                    6443\n",
       "sea pen                        3628\n",
       "stony coral (cup coral)        2019\n",
       "calcareous sponge               749\n",
       "stony coral (unspecified)       607\n",
       "stoloniferan coral              360\n",
       "scleromorph sponge              258\n",
       "gold coral                       85\n",
       "other coral-like hydrozoan       79\n",
       "Name: VernacularNameCategory, dtype: int64"
      ]
     },
     "execution_count": 11,
     "metadata": {},
     "output_type": "execute_result"
    }
   ],
   "source": [
    "df.VernacularNameCategory.value_counts()"
   ]
  },
  {
   "cell_type": "code",
   "execution_count": 12,
   "metadata": {
    "scrolled": true
   },
   "outputs": [
    {
     "data": {
      "text/plain": [
       "species       53305\n",
       "genus         52809\n",
       "phylum        33618\n",
       "order         16318\n",
       "family        12864\n",
       "class          6940\n",
       "subfamily      3512\n",
       "subgenus        459\n",
       "subspecies      444\n",
       "suborder        126\n",
       "subclass         71\n",
       "Name: TaxonRank, dtype: int64"
      ]
     },
     "execution_count": 12,
     "metadata": {},
     "output_type": "execute_result"
    }
   ],
   "source": [
    "df.TaxonRank.value_counts()"
   ]
  },
  {
   "cell_type": "code",
   "execution_count": 13,
   "metadata": {
    "scrolled": true
   },
   "outputs": [
    {
     "data": {
      "text/plain": [
       "14            12969\n",
       "VK826          8659\n",
       "transect 1     7357\n",
       "Area_2         7005\n",
       "Area_1         6428\n",
       "              ...  \n",
       "320-166           1\n",
       "337-165           1\n",
       "Dec-38            1\n",
       "217-123           1\n",
       "197-91            1\n",
       "Name: Station, Length: 5304, dtype: int64"
      ]
     },
     "execution_count": 13,
     "metadata": {},
     "output_type": "execute_result"
    }
   ],
   "source": [
    "df.Station.value_counts()"
   ]
  },
  {
   "cell_type": "code",
   "execution_count": 14,
   "metadata": {
    "scrolled": true
   },
   "outputs": [
    {
     "data": {
      "text/plain": [
       "2008-07-11    12987\n",
       "2008-07-13     6217\n",
       "2010-06-29     5427\n",
       "2004-08-05     5381\n",
       "2014-09-15     4603\n",
       "              ...  \n",
       "2005-08-10        1\n",
       "2012-07-22        1\n",
       "1992-08-18        1\n",
       "1987-08-18        1\n",
       "1994-09-23        1\n",
       "Name: ObservationDate, Length: 2798, dtype: int64"
      ]
     },
     "execution_count": 14,
     "metadata": {},
     "output_type": "execute_result"
    }
   ],
   "source": [
    "df.ObservationDate.value_counts()"
   ]
  },
  {
   "cell_type": "code",
   "execution_count": 9,
   "metadata": {
    "scrolled": true
   },
   "outputs": [
    {
     "data": {
      "text/plain": [
       "NOAA, Alaska Fisheries Science Center                                                              57621\n",
       "NOAA, Southwest Fisheries Science Center, Santa Cruz                                               42456\n",
       "NOAA, Olympic Coast National Marine Sanctuary                                                      35821\n",
       "NOAA, Office of Ocean Exploration and Research                                                     11149\n",
       "Temple University                                                                                  10893\n",
       "Harbor Branch Oceanographic Institute                                                               9365\n",
       "NOAA, Deep Sea Coral Research & Technology Program and Office of Ocean Exploration and Research     6166\n",
       "Ross, Steve                                                                                         2859\n",
       "NOAA, Northwest Fisheries Science Center                                                            1553\n",
       "Bureau of Ocean Energy Management                                                                    803\n",
       "Smithsonian Institution, National Museum of Natural History                                          650\n",
       "Quattrini, Andrea                                                                                    398\n",
       "Schmidt Ocean Institute                                                                              373\n",
       "Hawaii Undersea Research Laboratory                                                                  194\n",
       "California Academy of Sciences                                                                        98\n",
       "Thoma, Jana                                                                                           44\n",
       "Yale University Peabody Museum                                                                        23\n",
       "Name: DataProvider, dtype: int64"
      ]
     },
     "execution_count": 9,
     "metadata": {},
     "output_type": "execute_result"
    }
   ],
   "source": [
    "df.DataProvider.value_counts()"
   ]
  },
  {
   "cell_type": "code",
   "execution_count": 9,
   "metadata": {
    "scrolled": true
   },
   "outputs": [
    {
     "data": {
      "text/plain": [
       "NOAA, Alaska Fisheries Science Center                                                              57621\n",
       "NOAA, Southwest Fisheries Science Center, Santa Cruz                                               42456\n",
       "NOAA, Olympic Coast National Marine Sanctuary                                                      35821\n",
       "NOAA, Office of Ocean Exploration and Research                                                     11149\n",
       "Temple University                                                                                  10893\n",
       "Harbor Branch Oceanographic Institute                                                               9365\n",
       "NOAA, Deep Sea Coral Research & Technology Program and Office of Ocean Exploration and Research     6166\n",
       "Ross, Steve                                                                                         2859\n",
       "NOAA, Northwest Fisheries Science Center                                                            1553\n",
       "Bureau of Ocean Energy Management                                                                    803\n",
       "Smithsonian Institution, National Museum of Natural History                                          650\n",
       "Quattrini, Andrea                                                                                    398\n",
       "Schmidt Ocean Institute                                                                              373\n",
       "Hawaii Undersea Research Laboratory                                                                  194\n",
       "California Academy of Sciences                                                                        98\n",
       "Thoma, Jana                                                                                           44\n",
       "Yale University Peabody Museum                                                                        23\n",
       "Name: DataProvider, dtype: int64"
      ]
     },
     "execution_count": 9,
     "metadata": {},
     "output_type": "execute_result"
    }
   ],
   "source": [
    "df.DataProvider.value_counts()"
   ]
  },
  {
   "cell_type": "code",
   "execution_count": 9,
   "metadata": {
    "scrolled": true
   },
   "outputs": [
    {
     "data": {
      "text/plain": [
       "NOAA, Alaska Fisheries Science Center                                                              57621\n",
       "NOAA, Southwest Fisheries Science Center, Santa Cruz                                               42456\n",
       "NOAA, Olympic Coast National Marine Sanctuary                                                      35821\n",
       "NOAA, Office of Ocean Exploration and Research                                                     11149\n",
       "Temple University                                                                                  10893\n",
       "Harbor Branch Oceanographic Institute                                                               9365\n",
       "NOAA, Deep Sea Coral Research & Technology Program and Office of Ocean Exploration and Research     6166\n",
       "Ross, Steve                                                                                         2859\n",
       "NOAA, Northwest Fisheries Science Center                                                            1553\n",
       "Bureau of Ocean Energy Management                                                                    803\n",
       "Smithsonian Institution, National Museum of Natural History                                          650\n",
       "Quattrini, Andrea                                                                                    398\n",
       "Schmidt Ocean Institute                                                                              373\n",
       "Hawaii Undersea Research Laboratory                                                                  194\n",
       "California Academy of Sciences                                                                        98\n",
       "Thoma, Jana                                                                                           44\n",
       "Yale University Peabody Museum                                                                        23\n",
       "Name: DataProvider, dtype: int64"
      ]
     },
     "execution_count": 9,
     "metadata": {},
     "output_type": "execute_result"
    }
   ],
   "source": [
    "df.DataProvider.value_counts()"
   ]
  },
  {
   "cell_type": "code",
   "execution_count": 9,
   "metadata": {
    "scrolled": true
   },
   "outputs": [
    {
     "data": {
      "text/plain": [
       "NOAA, Alaska Fisheries Science Center                                                              57621\n",
       "NOAA, Southwest Fisheries Science Center, Santa Cruz                                               42456\n",
       "NOAA, Olympic Coast National Marine Sanctuary                                                      35821\n",
       "NOAA, Office of Ocean Exploration and Research                                                     11149\n",
       "Temple University                                                                                  10893\n",
       "Harbor Branch Oceanographic Institute                                                               9365\n",
       "NOAA, Deep Sea Coral Research & Technology Program and Office of Ocean Exploration and Research     6166\n",
       "Ross, Steve                                                                                         2859\n",
       "NOAA, Northwest Fisheries Science Center                                                            1553\n",
       "Bureau of Ocean Energy Management                                                                    803\n",
       "Smithsonian Institution, National Museum of Natural History                                          650\n",
       "Quattrini, Andrea                                                                                    398\n",
       "Schmidt Ocean Institute                                                                              373\n",
       "Hawaii Undersea Research Laboratory                                                                  194\n",
       "California Academy of Sciences                                                                        98\n",
       "Thoma, Jana                                                                                           44\n",
       "Yale University Peabody Museum                                                                        23\n",
       "Name: DataProvider, dtype: int64"
      ]
     },
     "execution_count": 9,
     "metadata": {},
     "output_type": "execute_result"
    }
   ],
   "source": [
    "df.DataProvider.value_counts()"
   ]
  },
  {
   "cell_type": "code",
   "execution_count": 9,
   "metadata": {
    "scrolled": true
   },
   "outputs": [
    {
     "data": {
      "text/plain": [
       "NOAA, Alaska Fisheries Science Center                                                              57621\n",
       "NOAA, Southwest Fisheries Science Center, Santa Cruz                                               42456\n",
       "NOAA, Olympic Coast National Marine Sanctuary                                                      35821\n",
       "NOAA, Office of Ocean Exploration and Research                                                     11149\n",
       "Temple University                                                                                  10893\n",
       "Harbor Branch Oceanographic Institute                                                               9365\n",
       "NOAA, Deep Sea Coral Research & Technology Program and Office of Ocean Exploration and Research     6166\n",
       "Ross, Steve                                                                                         2859\n",
       "NOAA, Northwest Fisheries Science Center                                                            1553\n",
       "Bureau of Ocean Energy Management                                                                    803\n",
       "Smithsonian Institution, National Museum of Natural History                                          650\n",
       "Quattrini, Andrea                                                                                    398\n",
       "Schmidt Ocean Institute                                                                              373\n",
       "Hawaii Undersea Research Laboratory                                                                  194\n",
       "California Academy of Sciences                                                                        98\n",
       "Thoma, Jana                                                                                           44\n",
       "Yale University Peabody Museum                                                                        23\n",
       "Name: DataProvider, dtype: int64"
      ]
     },
     "execution_count": 9,
     "metadata": {},
     "output_type": "execute_result"
    }
   ],
   "source": [
    "df.DataProvider.value_counts()"
   ]
  },
  {
   "cell_type": "code",
   "execution_count": 9,
   "metadata": {
    "scrolled": true
   },
   "outputs": [
    {
     "data": {
      "text/plain": [
       "NOAA, Alaska Fisheries Science Center                                                              57621\n",
       "NOAA, Southwest Fisheries Science Center, Santa Cruz                                               42456\n",
       "NOAA, Olympic Coast National Marine Sanctuary                                                      35821\n",
       "NOAA, Office of Ocean Exploration and Research                                                     11149\n",
       "Temple University                                                                                  10893\n",
       "Harbor Branch Oceanographic Institute                                                               9365\n",
       "NOAA, Deep Sea Coral Research & Technology Program and Office of Ocean Exploration and Research     6166\n",
       "Ross, Steve                                                                                         2859\n",
       "NOAA, Northwest Fisheries Science Center                                                            1553\n",
       "Bureau of Ocean Energy Management                                                                    803\n",
       "Smithsonian Institution, National Museum of Natural History                                          650\n",
       "Quattrini, Andrea                                                                                    398\n",
       "Schmidt Ocean Institute                                                                              373\n",
       "Hawaii Undersea Research Laboratory                                                                  194\n",
       "California Academy of Sciences                                                                        98\n",
       "Thoma, Jana                                                                                           44\n",
       "Yale University Peabody Museum                                                                        23\n",
       "Name: DataProvider, dtype: int64"
      ]
     },
     "execution_count": 9,
     "metadata": {},
     "output_type": "execute_result"
    }
   ],
   "source": [
    "df.DataProvider.value_counts()"
   ]
  },
  {
   "cell_type": "code",
   "execution_count": 9,
   "metadata": {
    "scrolled": true
   },
   "outputs": [
    {
     "data": {
      "text/plain": [
       "NOAA, Alaska Fisheries Science Center                                                              57621\n",
       "NOAA, Southwest Fisheries Science Center, Santa Cruz                                               42456\n",
       "NOAA, Olympic Coast National Marine Sanctuary                                                      35821\n",
       "NOAA, Office of Ocean Exploration and Research                                                     11149\n",
       "Temple University                                                                                  10893\n",
       "Harbor Branch Oceanographic Institute                                                               9365\n",
       "NOAA, Deep Sea Coral Research & Technology Program and Office of Ocean Exploration and Research     6166\n",
       "Ross, Steve                                                                                         2859\n",
       "NOAA, Northwest Fisheries Science Center                                                            1553\n",
       "Bureau of Ocean Energy Management                                                                    803\n",
       "Smithsonian Institution, National Museum of Natural History                                          650\n",
       "Quattrini, Andrea                                                                                    398\n",
       "Schmidt Ocean Institute                                                                              373\n",
       "Hawaii Undersea Research Laboratory                                                                  194\n",
       "California Academy of Sciences                                                                        98\n",
       "Thoma, Jana                                                                                           44\n",
       "Yale University Peabody Museum                                                                        23\n",
       "Name: DataProvider, dtype: int64"
      ]
     },
     "execution_count": 9,
     "metadata": {},
     "output_type": "execute_result"
    }
   ],
   "source": [
    "df.DataProvider.value_counts()"
   ]
  },
  {
   "cell_type": "code",
   "execution_count": null,
   "metadata": {},
   "outputs": [],
   "source": []
  }
 ],
 "metadata": {
  "kernelspec": {
   "display_name": "Python 3",
   "language": "python",
   "name": "python3"
  },
  "language_info": {
   "codemirror_mode": {
    "name": "ipython",
    "version": 3
   },
   "file_extension": ".py",
   "mimetype": "text/x-python",
   "name": "python",
   "nbconvert_exporter": "python",
   "pygments_lexer": "ipython3",
   "version": "3.7.6"
  }
 },
 "nbformat": 4,
 "nbformat_minor": 4
}
